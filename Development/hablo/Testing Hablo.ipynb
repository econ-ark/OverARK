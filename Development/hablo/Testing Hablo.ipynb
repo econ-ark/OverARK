{
 "cells": [
  {
   "cell_type": "code",
   "execution_count": 2,
   "id": "e731ddf4",
   "metadata": {},
   "outputs": [],
   "source": [
    "import hablo_parser as hablo\n",
    "import matplotlib.pyplot as plt\n",
    "import numpy as np\n",
    "import yaml "
   ]
  },
  {
   "cell_type": "code",
   "execution_count": 3,
   "id": "800d09a2",
   "metadata": {},
   "outputs": [],
   "source": [
    "config = yaml.load(open('perfect_foresight_normalized_lite.yaml', 'r'), Loader= hablo.get_loader())"
   ]
  },
  {
   "cell_type": "code",
   "execution_count": 4,
   "id": "6a0ab528",
   "metadata": {},
   "outputs": [
    {
     "data": {
      "text/plain": [
       "{'calibration': {'CRRA': 2.0,\n",
       "  'LivPrb': 0.98,\n",
       "  'DiscFac': 0.96,\n",
       "  'PermGroFac': 1.01,\n",
       "  'Rfree': 1.03,\n",
       "  'BoroCnstArt': 'None'},\n",
       " 'agents': {'consumer': {'count': 100}},\n",
       " 'dynamics': {'p': 'PermGroFac * p',\n",
       "  'r_eff': 'Rfree / PermGroFac',\n",
       "  'b_nrm': 'r_eff * a_nrm',\n",
       "  'm_nrm': 'b_nrm + 1',\n",
       "  'c_nrm': <hablo_parser.Control at 0x7f37e10d0d90>,\n",
       "  'a_nrm': 'm_nrm - c_nrm',\n",
       "  'u': 'c ** (1 - CRRA) / (1 - CRRA)'},\n",
       " 'shocks': {'live': <hablo_parser.Bernoulli at 0x7f37e10d0df0>}}"
      ]
     },
     "execution_count": 4,
     "metadata": {},
     "output_type": "execute_result"
    }
   ],
   "source": [
    "config"
   ]
  },
  {
   "cell_type": "code",
   "execution_count": 5,
   "id": "91b8e839",
   "metadata": {},
   "outputs": [
    {
     "data": {
      "text/plain": [
       "{'p': 'PermGroFac * p',\n",
       " 'r_eff': 'Rfree / PermGroFac',\n",
       " 'b_nrm': 'r_eff * a_nrm',\n",
       " 'm_nrm': 'b_nrm + 1',\n",
       " 'c_nrm': <hablo_parser.Control at 0x7f37e10d0d90>,\n",
       " 'a_nrm': 'm_nrm - c_nrm',\n",
       " 'u': 'c ** (1 - CRRA) / (1 - CRRA)'}"
      ]
     },
     "execution_count": 5,
     "metadata": {},
     "output_type": "execute_result"
    }
   ],
   "source": [
    "config['dynamics']"
   ]
  },
  {
   "cell_type": "code",
   "execution_count": 6,
   "id": "297b2b30",
   "metadata": {},
   "outputs": [
    {
     "data": {
      "text/plain": [
       "<function _lambdifygenerated(PermGroFac, p)>"
      ]
     },
     "execution_count": 6,
     "metadata": {},
     "output_type": "execute_result"
    }
   ],
   "source": [
    "hablo.math_text_to_lambda(config['dynamics']['p'])"
   ]
  },
  {
   "cell_type": "code",
   "execution_count": 7,
   "id": "334066e2",
   "metadata": {},
   "outputs": [
    {
     "data": {
      "text/plain": [
       "<function _lambdifygenerated(PermGroFac, Rfree)>"
      ]
     },
     "execution_count": 7,
     "metadata": {},
     "output_type": "execute_result"
    }
   ],
   "source": [
    "hablo.math_text_to_lambda(config['dynamics']['r_eff'])"
   ]
  },
  {
   "cell_type": "code",
   "execution_count": 8,
   "id": "d0d7a820",
   "metadata": {},
   "outputs": [
    {
     "data": {
      "text/plain": [
       "<function _lambdifygenerated(b_nrm)>"
      ]
     },
     "execution_count": 8,
     "metadata": {},
     "output_type": "execute_result"
    }
   ],
   "source": [
    "hablo.math_text_to_lambda(config['dynamics']['m_nrm'])"
   ]
  },
  {
   "cell_type": "code",
   "execution_count": 9,
   "id": "a4073033",
   "metadata": {},
   "outputs": [
    {
     "data": {
      "text/plain": [
       "<function _lambdifygenerated(m_nrm, c_nrm)>"
      ]
     },
     "execution_count": 9,
     "metadata": {},
     "output_type": "execute_result"
    }
   ],
   "source": [
    "hablo.math_text_to_lambda(config['dynamics']['a_nrm'])"
   ]
  },
  {
   "cell_type": "code",
   "execution_count": 10,
   "id": "3e130697",
   "metadata": {
    "scrolled": true
   },
   "outputs": [
    {
     "data": {
      "text/plain": [
       "<function _lambdifygenerated(CRRA, c)>"
      ]
     },
     "execution_count": 10,
     "metadata": {},
     "output_type": "execute_result"
    }
   ],
   "source": [
    "hablo.math_text_to_lambda(config['dynamics']['u'])"
   ]
  },
  {
   "cell_type": "code",
   "execution_count": 11,
   "id": "d5065aca",
   "metadata": {},
   "outputs": [
    {
     "data": {
      "text/plain": [
       "'m_nrm - c_nrm'"
      ]
     },
     "execution_count": 11,
     "metadata": {},
     "output_type": "execute_result"
    }
   ],
   "source": [
    "config['dynamics']['a_nrm']"
   ]
  },
  {
   "cell_type": "code",
   "execution_count": 14,
   "id": "f27c2c16",
   "metadata": {},
   "outputs": [],
   "source": [
    "a_hexp = hablo.HabloExpression(config['dynamics']['a_nrm'])"
   ]
  },
  {
   "cell_type": "code",
   "execution_count": 15,
   "id": "e5f94bdb",
   "metadata": {},
   "outputs": [
    {
     "data": {
      "text/latex": [
       "$\\displaystyle - c_{nrm} + m_{nrm}$"
      ],
      "text/plain": [
       "-c_nrm + m_nrm"
      ]
     },
     "execution_count": 15,
     "metadata": {},
     "output_type": "execute_result"
    }
   ],
   "source": [
    "a_hexp.expr"
   ]
  },
  {
   "cell_type": "code",
   "execution_count": 16,
   "id": "4e1292cc",
   "metadata": {},
   "outputs": [
    {
     "data": {
      "text/plain": [
       "{'m_nrm': 1, 'c_nrm': -1}"
      ]
     },
     "execution_count": 16,
     "metadata": {},
     "output_type": "execute_result"
    }
   ],
   "source": [
    "a_hexp.diffs"
   ]
  },
  {
   "cell_type": "code",
   "execution_count": 22,
   "id": "813315ac",
   "metadata": {},
   "outputs": [
    {
     "data": {
      "text/plain": [
       "[<matplotlib.lines.Line2D at 0x7f37de889700>]"
      ]
     },
     "execution_count": 22,
     "metadata": {},
     "output_type": "execute_result"
    },
    {
     "data": {
      "image/png": "[encoded data removed]",
      "text/plain": [
       "<Figure size 640x480 with 1 Axes>"
      ]
     },
     "metadata": {},
     "output_type": "display_data"
    }
   ],
   "source": [
    "x = np.linspace(0,4,100)\n",
    "\n",
    "plt.plot(a_hexp.npf(x, 2))"
   ]
  },
  {
   "cell_type": "code",
   "execution_count": 31,
   "id": "dbc90ecf",
   "metadata": {},
   "outputs": [
    {
     "data": {
      "text/plain": [
       "array([0.        , 0.04040404, 0.08080808, 0.12121212, 0.16161616,\n",
       "       0.2020202 , 0.24242424, 0.28282828, 0.32323232, 0.36363636,\n",
       "       0.4040404 , 0.44444444, 0.48484848, 0.52525253, 0.56565657,\n",
       "       0.60606061, 0.64646465, 0.68686869, 0.72727273, 0.76767677,\n",
       "       0.80808081, 0.84848485, 0.88888889, 0.92929293, 0.96969697,\n",
       "       1.01010101, 1.05050505, 1.09090909, 1.13131313, 1.17171717,\n",
       "       1.21212121, 1.25252525, 1.29292929, 1.33333333, 1.37373737,\n",
       "       1.41414141, 1.45454545, 1.49494949, 1.53535354, 1.57575758,\n",
       "       1.61616162, 1.65656566, 1.6969697 , 1.73737374, 1.77777778,\n",
       "       1.81818182, 1.85858586, 1.8989899 , 1.93939394, 1.97979798,\n",
       "       2.02020202, 2.06060606, 2.1010101 , 2.14141414, 2.18181818,\n",
       "       2.22222222, 2.26262626, 2.3030303 , 2.34343434, 2.38383838,\n",
       "       2.42424242, 2.46464646, 2.50505051, 2.54545455, 2.58585859,\n",
       "       2.62626263, 2.66666667, 2.70707071, 2.74747475, 2.78787879,\n",
       "       2.82828283, 2.86868687, 2.90909091, 2.94949495, 2.98989899,\n",
       "       3.03030303, 3.07070707, 3.11111111, 3.15151515, 3.19191919,\n",
       "       3.23232323, 3.27272727, 3.31313131, 3.35353535, 3.39393939,\n",
       "       3.43434343, 3.47474747, 3.51515152, 3.55555556, 3.5959596 ,\n",
       "       3.63636364, 3.67676768, 3.71717172, 3.75757576, 3.7979798 ,\n",
       "       3.83838384, 3.87878788, 3.91919192, 3.95959596, 4.        ])"
      ]
     },
     "execution_count": 31,
     "metadata": {},
     "output_type": "execute_result"
    }
   ],
   "source": [
    "x"
   ]
  },
  {
   "cell_type": "code",
   "execution_count": 18,
   "id": "1503e6f8",
   "metadata": {},
   "outputs": [],
   "source": [
    "u_hexp = hablo.HabloExpression(config['dynamics']['u'])"
   ]
  },
  {
   "cell_type": "code",
   "execution_count": 19,
   "id": "776d65c3",
   "metadata": {},
   "outputs": [
    {
     "data": {
      "text/latex": [
       "$\\displaystyle \\frac{c^{1 - CRRA}}{1 - CRRA}$"
      ],
      "text/plain": [
       "c**(1 - CRRA)/(1 - CRRA)"
      ]
     },
     "execution_count": 19,
     "metadata": {},
     "output_type": "execute_result"
    }
   ],
   "source": [
    "u_hexp.expr"
   ]
  },
  {
   "cell_type": "code",
   "execution_count": 20,
   "id": "469ad60a",
   "metadata": {},
   "outputs": [
    {
     "data": {
      "text/plain": [
       "{'CRRA': -c**(1 - CRRA)*log(c)/(1 - CRRA) + c**(1 - CRRA)/(1 - CRRA)**2,\n",
       " 'c': c**(1 - CRRA)/c}"
      ]
     },
     "execution_count": 20,
     "metadata": {},
     "output_type": "execute_result"
    }
   ],
   "source": [
    "u_hexp.diffs"
   ]
  },
  {
   "cell_type": "code",
   "execution_count": 27,
   "id": "94c2aade",
   "metadata": {},
   "outputs": [
    {
     "data": {
      "text/plain": [
       "array([ 2.00000000e+00,  2.02665002e+00,  2.05730244e+00,  2.09246139e+00,\n",
       "        2.13272955e+00,  2.17883307e+00,  2.23165450e+00,  2.29227673e+00,\n",
       "        2.36204280e+00,  2.44263844e+00,  2.53620817e+00,  2.64552209e+00,\n",
       "        2.77422114e+00,  2.92718767e+00,  3.11112271e+00,  3.33547862e+00,\n",
       "        3.61403119e+00,  3.96766886e+00,  4.42966130e+00,  5.05642559e+00,\n",
       "        5.95189179e+00,  7.33085351e+00,  9.72053765e+00,  1.48532710e+01,\n",
       "        3.37004780e+01, -9.83092737e+01, -1.91188451e+01, -1.03282400e+01,\n",
       "       -6.95284665e+00, -5.17004417e+00, -4.06968741e+00, -3.32412625e+00,\n",
       "       -2.78648489e+00, -2.38110158e+00, -2.06503449e+00, -1.81210079e+00,\n",
       "       -1.60542812e+00, -1.43365439e+00, -1.28884845e+00, -1.16530615e+00,\n",
       "       -1.05882023e+00, -9.66219685e-01, -8.85069386e-01, -8.13468465e-01,\n",
       "       -7.49911525e-01, -6.93190986e-01, -6.42326991e-01, -5.96516227e-01,\n",
       "       -5.55093948e-01, -5.17505391e-01, -4.83283993e-01, -4.52034579e-01,\n",
       "       -4.23420256e-01, -3.97152094e-01, -3.72980916e-01, -3.50690720e-01,\n",
       "       -3.30093371e-01, -3.11024269e-01, -2.93338805e-01, -2.76909442e-01,\n",
       "       -2.61623283e-01, -2.47380050e-01, -2.34090387e-01, -2.21674424e-01,\n",
       "       -2.10060570e-01, -1.99184476e-01, -1.88988157e-01, -1.79419236e-01,\n",
       "       -1.70430287e-01, -1.61978281e-01, -1.54024089e-01, -1.46532064e-01,\n",
       "       -1.39469666e-01, -1.32807142e-01, -1.26517233e-01, -1.20574932e-01,\n",
       "       -1.14957257e-01, -1.09643058e-01, -1.04612840e-01, -9.98486129e-02,\n",
       "       -9.53337481e-02, -9.10528608e-02, -8.69916970e-02, -8.31370359e-02,\n",
       "       -7.94766006e-02, -7.59989791e-02, -7.26935517e-02, -6.95504265e-02,\n",
       "       -6.65603804e-02, -6.37148060e-02, -6.10056633e-02, -5.84254355e-02,\n",
       "       -5.59670897e-02, -5.36240399e-02, -5.13901138e-02, -4.92595228e-02,\n",
       "       -4.72268340e-02, -4.52869446e-02, -4.34350590e-02, -4.16666667e-02])"
      ]
     },
     "execution_count": 27,
     "metadata": {},
     "output_type": "execute_result"
    }
   ],
   "source": [
    "u_hexp.npf(y, 2)"
   ]
  },
  {
   "cell_type": "code",
   "execution_count": 34,
   "id": "3d058726",
   "metadata": {},
   "outputs": [
    {
     "data": {
      "text/plain": [
       "[<matplotlib.lines.Line2D at 0x7f37de682250>]"
      ]
     },
     "execution_count": 34,
     "metadata": {},
     "output_type": "execute_result"
    },
    {
     "data": {
      "image/png": "[encoded data removed]",
      "text/plain": [
       "<Figure size 640x480 with 1 Axes>"
      ]
     },
     "metadata": {},
     "output_type": "display_data"
    }
   ],
   "source": [
    "y = np.linspace(0,4,100)\n",
    "\n",
    "plt.plot(u_hexp.npf(**{'CRRA' : 2, 'c': y}))"
   ]
  },
  {
   "cell_type": "code",
   "execution_count": 26,
   "id": "b4825384",
   "metadata": {},
   "outputs": [
    {
     "data": {
      "text/plain": [
       "array([0.        , 0.04040404, 0.08080808, 0.12121212, 0.16161616,\n",
       "       0.2020202 , 0.24242424, 0.28282828, 0.32323232, 0.36363636,\n",
       "       0.4040404 , 0.44444444, 0.48484848, 0.52525253, 0.56565657,\n",
       "       0.60606061, 0.64646465, 0.68686869, 0.72727273, 0.76767677,\n",
       "       0.80808081, 0.84848485, 0.88888889, 0.92929293, 0.96969697,\n",
       "       1.01010101, 1.05050505, 1.09090909, 1.13131313, 1.17171717,\n",
       "       1.21212121, 1.25252525, 1.29292929, 1.33333333, 1.37373737,\n",
       "       1.41414141, 1.45454545, 1.49494949, 1.53535354, 1.57575758,\n",
       "       1.61616162, 1.65656566, 1.6969697 , 1.73737374, 1.77777778,\n",
       "       1.81818182, 1.85858586, 1.8989899 , 1.93939394, 1.97979798,\n",
       "       2.02020202, 2.06060606, 2.1010101 , 2.14141414, 2.18181818,\n",
       "       2.22222222, 2.26262626, 2.3030303 , 2.34343434, 2.38383838,\n",
       "       2.42424242, 2.46464646, 2.50505051, 2.54545455, 2.58585859,\n",
       "       2.62626263, 2.66666667, 2.70707071, 2.74747475, 2.78787879,\n",
       "       2.82828283, 2.86868687, 2.90909091, 2.94949495, 2.98989899,\n",
       "       3.03030303, 3.07070707, 3.11111111, 3.15151515, 3.19191919,\n",
       "       3.23232323, 3.27272727, 3.31313131, 3.35353535, 3.39393939,\n",
       "       3.43434343, 3.47474747, 3.51515152, 3.55555556, 3.5959596 ,\n",
       "       3.63636364, 3.67676768, 3.71717172, 3.75757576, 3.7979798 ,\n",
       "       3.83838384, 3.87878788, 3.91919192, 3.95959596, 4.        ])"
      ]
     },
     "execution_count": 26,
     "metadata": {},
     "output_type": "execute_result"
    }
   ],
   "source": [
    "y"
   ]
  },
  {
   "cell_type": "markdown",
   "id": "32eaa1a1",
   "metadata": {},
   "source": [
    "## Extending block"
   ]
  },
  {
   "cell_type": "code",
   "execution_count": 28,
   "id": "956afc39",
   "metadata": {},
   "outputs": [],
   "source": [
    "new_block = config.copy()"
   ]
  },
  {
   "cell_type": "code",
   "execution_count": 29,
   "id": "d206263d",
   "metadata": {},
   "outputs": [],
   "source": [
    "\n",
    "new_block['calibration']['RiskyStd'] = 2\n",
    "new_block['dynamics']['share'] = hablo.Control(['a_nrm'])\n",
    "new_block['dynamics']['r_eff'] = 'Rfree * (1 - share) * R_risky * share / PermGroFac'\n",
    "new_block['shocks']['R_risky'] = hablo.MeanOneLogNormal('RiskyStd')"
   ]
  },
  {
   "cell_type": "code",
   "execution_count": 30,
   "id": "64cfcf75",
   "metadata": {},
   "outputs": [
    {
     "data": {
      "text/plain": [
       "{'calibration': {'CRRA': 2.0,\n",
       "  'LivPrb': 0.98,\n",
       "  'DiscFac': 0.96,\n",
       "  'PermGroFac': 1.01,\n",
       "  'Rfree': 1.03,\n",
       "  'BoroCnstArt': 'None',\n",
       "  'RiskyStd': 2},\n",
       " 'agents': {'consumer': {'count': 100}},\n",
       " 'dynamics': {'p': 'PermGroFac * p',\n",
       "  'r_eff': 'Rfree * (1 - share) * R_risky * share / PermGroFac',\n",
       "  'b_nrm': 'r_eff * a_nrm',\n",
       "  'm_nrm': 'b_nrm + 1',\n",
       "  'c_nrm': <hablo_parser.Control at 0x7f37e10d0d90>,\n",
       "  'a_nrm': 'm_nrm - c_nrm',\n",
       "  'u': 'c ** (1 - CRRA) / (1 - CRRA)',\n",
       "  'share': <hablo_parser.Control at 0x7f37de756100>},\n",
       " 'shocks': {'live': <hablo_parser.Bernoulli at 0x7f37e10d0df0>,\n",
       "  'R_risky': <hablo_parser.MeanOneLogNormal at 0x7f37de7561c0>}}"
      ]
     },
     "execution_count": 30,
     "metadata": {},
     "output_type": "execute_result"
    }
   ],
   "source": [
    "new_block"
   ]
  },
  {
   "cell_type": "markdown",
   "id": "b3eba096",
   "metadata": {},
   "source": [
    "## What about indexed symbols? Not out of the box..."
   ]
  },
  {
   "cell_type": "markdown",
   "id": "2fc9ec1f",
   "metadata": {},
   "source": [
    "We will need to build something extra to handle indexed symbols."
   ]
  },
  {
   "cell_type": "code",
   "execution_count": 22,
   "id": "d302fdbe",
   "metadata": {},
   "outputs": [
    {
     "ename": "TypeError",
     "evalue": "'Symbol' object is not subscriptable",
     "output_type": "error",
     "traceback": [
      "\u001b[0;31m---------------------------------------------------------------------------\u001b[0m",
      "\u001b[0;31mValueError\u001b[0m                                Traceback (most recent call last)",
      "\u001b[0;31mValueError\u001b[0m: Error from parse_expr with transformed code: \"Symbol ('Rfree' )/Symbol ('PermGroFac' )[Symbol ('age' )]\"",
      "\nThe above exception was the direct cause of the following exception:\n",
      "\u001b[0;31mTypeError\u001b[0m                                 Traceback (most recent call last)",
      "Cell \u001b[0;32mIn[22], line 1\u001b[0m\n\u001b[0;32m----> 1\u001b[0m \u001b[43mhablo\u001b[49m\u001b[38;5;241;43m.\u001b[39;49m\u001b[43mmath_text_to_lambda\u001b[49m\u001b[43m(\u001b[49m\u001b[38;5;124;43m'\u001b[39;49m\u001b[38;5;124;43mRfree / PermGroFac[age]\u001b[39;49m\u001b[38;5;124;43m'\u001b[39;49m\u001b[43m)\u001b[49m\n",
      "File \u001b[0;32m~/projects/econ-ark/OverARK/Development/hablo/hablo_parser.py:97\u001b[0m, in \u001b[0;36mmath_text_to_lambda\u001b[0;34m(text)\u001b[0m\n\u001b[1;32m     96\u001b[0m \u001b[38;5;28;01mdef\u001b[39;00m \u001b[38;5;21mmath_text_to_lambda\u001b[39m(text):\n\u001b[0;32m---> 97\u001b[0m     expr \u001b[38;5;241m=\u001b[39m \u001b[43mparse_expr\u001b[49m\u001b[43m(\u001b[49m\u001b[43mtext\u001b[49m\u001b[43m)\u001b[49m\n\u001b[1;32m     98\u001b[0m     func \u001b[38;5;241m=\u001b[39m lambdify(\u001b[38;5;28mlist\u001b[39m(expr\u001b[38;5;241m.\u001b[39mfree_symbols), expr, \u001b[38;5;124m\"\u001b[39m\u001b[38;5;124mnumpy\u001b[39m\u001b[38;5;124m\"\u001b[39m)\n\u001b[1;32m     99\u001b[0m     \u001b[38;5;28;01mreturn\u001b[39;00m func\n",
      "File \u001b[0;32m~/miniconda3/lib/python3.8/site-packages/sympy/parsing/sympy_parser.py:1101\u001b[0m, in \u001b[0;36mparse_expr\u001b[0;34m(s, local_dict, transformations, global_dict, evaluate)\u001b[0m\n\u001b[1;32m   1099\u001b[0m \u001b[38;5;28;01mfor\u001b[39;00m i \u001b[38;5;129;01min\u001b[39;00m local_dict\u001b[38;5;241m.\u001b[39mpop(null, ()):\n\u001b[1;32m   1100\u001b[0m     local_dict[i] \u001b[38;5;241m=\u001b[39m null\n\u001b[0;32m-> 1101\u001b[0m \u001b[38;5;28;01mraise\u001b[39;00m e \u001b[38;5;28;01mfrom\u001b[39;00m \u001b[38;5;21;01mValueError\u001b[39;00m(\u001b[38;5;124mf\u001b[39m\u001b[38;5;124m\"\u001b[39m\u001b[38;5;124mError from parse_expr with transformed code: \u001b[39m\u001b[38;5;132;01m{\u001b[39;00mcode\u001b[38;5;132;01m!r}\u001b[39;00m\u001b[38;5;124m\"\u001b[39m)\n",
      "File \u001b[0;32m~/miniconda3/lib/python3.8/site-packages/sympy/parsing/sympy_parser.py:1092\u001b[0m, in \u001b[0;36mparse_expr\u001b[0;34m(s, local_dict, transformations, global_dict, evaluate)\u001b[0m\n\u001b[1;32m   1089\u001b[0m     code \u001b[38;5;241m=\u001b[39m \u001b[38;5;28mcompile\u001b[39m(evaluateFalse(code), \u001b[38;5;124m'\u001b[39m\u001b[38;5;124m<string>\u001b[39m\u001b[38;5;124m'\u001b[39m, \u001b[38;5;124m'\u001b[39m\u001b[38;5;124meval\u001b[39m\u001b[38;5;124m'\u001b[39m)\n\u001b[1;32m   1091\u001b[0m \u001b[38;5;28;01mtry\u001b[39;00m:\n\u001b[0;32m-> 1092\u001b[0m     rv \u001b[38;5;241m=\u001b[39m \u001b[43meval_expr\u001b[49m\u001b[43m(\u001b[49m\u001b[43mcode\u001b[49m\u001b[43m,\u001b[49m\u001b[43m \u001b[49m\u001b[43mlocal_dict\u001b[49m\u001b[43m,\u001b[49m\u001b[43m \u001b[49m\u001b[43mglobal_dict\u001b[49m\u001b[43m)\u001b[49m\n\u001b[1;32m   1093\u001b[0m     \u001b[38;5;66;03m# restore neutral definitions for names\u001b[39;00m\n\u001b[1;32m   1094\u001b[0m     \u001b[38;5;28;01mfor\u001b[39;00m i \u001b[38;5;129;01min\u001b[39;00m local_dict\u001b[38;5;241m.\u001b[39mpop(null, ()):\n",
      "File \u001b[0;32m~/miniconda3/lib/python3.8/site-packages/sympy/parsing/sympy_parser.py:907\u001b[0m, in \u001b[0;36meval_expr\u001b[0;34m(code, local_dict, global_dict)\u001b[0m\n\u001b[1;32m    901\u001b[0m \u001b[38;5;28;01mdef\u001b[39;00m \u001b[38;5;21meval_expr\u001b[39m(code, local_dict: DICT, global_dict: DICT):\n\u001b[1;32m    902\u001b[0m \u001b[38;5;250m    \u001b[39m\u001b[38;5;124;03m\"\"\"\u001b[39;00m\n\u001b[1;32m    903\u001b[0m \u001b[38;5;124;03m    Evaluate Python code generated by ``stringify_expr``.\u001b[39;00m\n\u001b[1;32m    904\u001b[0m \n\u001b[1;32m    905\u001b[0m \u001b[38;5;124;03m    Generally, ``parse_expr`` should be used.\u001b[39;00m\n\u001b[1;32m    906\u001b[0m \u001b[38;5;124;03m    \"\"\"\u001b[39;00m\n\u001b[0;32m--> 907\u001b[0m     expr \u001b[38;5;241m=\u001b[39m \u001b[38;5;28;43meval\u001b[39;49m\u001b[43m(\u001b[49m\n\u001b[1;32m    908\u001b[0m \u001b[43m        \u001b[49m\u001b[43mcode\u001b[49m\u001b[43m,\u001b[49m\u001b[43m \u001b[49m\u001b[43mglobal_dict\u001b[49m\u001b[43m,\u001b[49m\u001b[43m \u001b[49m\u001b[43mlocal_dict\u001b[49m\u001b[43m)\u001b[49m  \u001b[38;5;66;03m# take local objects in preference\u001b[39;00m\n\u001b[1;32m    909\u001b[0m     \u001b[38;5;28;01mreturn\u001b[39;00m expr\n",
      "File \u001b[0;32m<string>:1\u001b[0m\n",
      "\u001b[0;31mTypeError\u001b[0m: 'Symbol' object is not subscriptable"
     ]
    }
   ],
   "source": [
    "hablo.math_text_to_lambda('Rfree / PermGroFac[age]')"
   ]
  },
  {
   "cell_type": "code",
   "execution_count": null,
   "id": "c11b6067",
   "metadata": {},
   "outputs": [],
   "source": []
  }
 ],
 "metadata": {
  "kernelspec": {
   "display_name": "Python 3 (ipykernel)",
   "language": "python",
   "name": "python3"
  },
  "language_info": {
   "codemirror_mode": {
    "name": "ipython",
    "version": 3
   },
   "file_extension": ".py",
   "mimetype": "text/x-python",
   "name": "python",
   "nbconvert_exporter": "python",
   "pygments_lexer": "ipython3",
   "version": "3.8.13"
  }
 },
 "nbformat": 4,
 "nbformat_minor": 5
}
