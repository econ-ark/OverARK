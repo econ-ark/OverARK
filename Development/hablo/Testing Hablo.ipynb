{
 "cells": [
  {
   "cell_type": "code",
   "execution_count": 1,
   "id": "e731ddf4",
   "metadata": {},
   "outputs": [],
   "source": [
    "import hablo_parser as hablo\n",
    "import yaml "
   ]
  },
  {
   "cell_type": "code",
   "execution_count": 2,
   "id": "800d09a2",
   "metadata": {},
   "outputs": [],
   "source": [
    "config = yaml.load(open('perfect_foresight_normalized_lite.yaml', 'r'), Loader= hablo.get_loader())"
   ]
  },
  {
   "cell_type": "code",
   "execution_count": 5,
   "id": "6a0ab528",
   "metadata": {},
   "outputs": [
    {
     "data": {
      "text/plain": [
       "{'calibration': [{'CRRA': 2.0},\n",
       "  {'LivPrb': 0.98},\n",
       "  {'DiscFac': 0.96},\n",
       "  {'PermGroFac': 1.01},\n",
       "  {'Rfree': 103},\n",
       "  {'BoroCnstArt': 'None'}],\n",
       " 'agents': {'consumer': {'count': 100}},\n",
       " 'dynamics': {'p': 'PermGroFac * p',\n",
       "  'r_eff': 'Rfree / PermGroFac',\n",
       "  'b_nrm': 'r_eff * a_nrm',\n",
       "  'm_nrm': 'b_nrm + 1',\n",
       "  'c_nrm': <hablo_parser.Control at 0x7efd02de6c40>,\n",
       "  'a_nrm': 'm_nrm - c_nrm',\n",
       "  'u': 'c ** (1 - CRRA) / (1 - CRRA)'},\n",
       " 'shocks': {'live': <hablo_parser.Bernoulli at 0x7efd02de6d90>}}"
      ]
     },
     "execution_count": 5,
     "metadata": {},
     "output_type": "execute_result"
    }
   ],
   "source": [
    "config"
   ]
  },
  {
   "cell_type": "code",
   "execution_count": 6,
   "id": "91b8e839",
   "metadata": {},
   "outputs": [
    {
     "data": {
      "text/plain": [
       "{'p': 'PermGroFac * p',\n",
       " 'r_eff': 'Rfree / PermGroFac',\n",
       " 'b_nrm': 'r_eff * a_nrm',\n",
       " 'm_nrm': 'b_nrm + 1',\n",
       " 'c_nrm': <hablo_parser.Control at 0x7efd02de6c40>,\n",
       " 'a_nrm': 'm_nrm - c_nrm',\n",
       " 'u': 'c ** (1 - CRRA) / (1 - CRRA)'}"
      ]
     },
     "execution_count": 6,
     "metadata": {},
     "output_type": "execute_result"
    }
   ],
   "source": [
    "config['dynamics']"
   ]
  },
  {
   "cell_type": "code",
   "execution_count": 11,
   "id": "297b2b30",
   "metadata": {},
   "outputs": [
    {
     "data": {
      "text/plain": [
       "<function _lambdifygenerated(p, PermGroFac)>"
      ]
     },
     "execution_count": 11,
     "metadata": {},
     "output_type": "execute_result"
    }
   ],
   "source": [
    "hablo.math_text_to_lambda(config['dynamics']['p'])"
   ]
  },
  {
   "cell_type": "code",
   "execution_count": 12,
   "id": "334066e2",
   "metadata": {},
   "outputs": [
    {
     "data": {
      "text/plain": [
       "<function _lambdifygenerated(PermGroFac, Rfree)>"
      ]
     },
     "execution_count": 12,
     "metadata": {},
     "output_type": "execute_result"
    }
   ],
   "source": [
    "hablo.math_text_to_lambda(config['dynamics']['r_eff'])"
   ]
  },
  {
   "cell_type": "code",
   "execution_count": 13,
   "id": "d0d7a820",
   "metadata": {},
   "outputs": [
    {
     "data": {
      "text/plain": [
       "<function _lambdifygenerated(b_nrm)>"
      ]
     },
     "execution_count": 13,
     "metadata": {},
     "output_type": "execute_result"
    }
   ],
   "source": [
    "hablo.math_text_to_lambda(config['dynamics']['m_nrm'])"
   ]
  },
  {
   "cell_type": "code",
   "execution_count": 14,
   "id": "a4073033",
   "metadata": {},
   "outputs": [
    {
     "data": {
      "text/plain": [
       "<function _lambdifygenerated(m_nrm, c_nrm)>"
      ]
     },
     "execution_count": 14,
     "metadata": {},
     "output_type": "execute_result"
    }
   ],
   "source": [
    "hablo.math_text_to_lambda(config['dynamics']['a_nrm'])"
   ]
  },
  {
   "cell_type": "code",
   "execution_count": 15,
   "id": "3e130697",
   "metadata": {
    "scrolled": true
   },
   "outputs": [
    {
     "data": {
      "text/plain": [
       "<function _lambdifygenerated(CRRA, c)>"
      ]
     },
     "execution_count": 15,
     "metadata": {},
     "output_type": "execute_result"
    }
   ],
   "source": [
    "hablo.math_text_to_lambda(config['dynamics']['u'])"
   ]
  },
  {
   "cell_type": "markdown",
   "id": "b3eba096",
   "metadata": {},
   "source": [
    "## What about indexed symbols? Not out of the box..."
   ]
  },
  {
   "cell_type": "code",
   "execution_count": 17,
   "id": "d302fdbe",
   "metadata": {},
   "outputs": [
    {
     "ename": "TypeError",
     "evalue": "'Symbol' object is not subscriptable",
     "output_type": "error",
     "traceback": [
      "\u001b[0;31m---------------------------------------------------------------------------\u001b[0m",
      "\u001b[0;31mValueError\u001b[0m                                Traceback (most recent call last)",
      "\u001b[0;31mValueError\u001b[0m: Error from parse_expr with transformed code: \"Symbol ('Rfree' )/Symbol ('PermGroFac' )[Symbol ('age' )]\"",
      "\nThe above exception was the direct cause of the following exception:\n",
      "\u001b[0;31mTypeError\u001b[0m                                 Traceback (most recent call last)",
      "Cell \u001b[0;32mIn[17], line 1\u001b[0m\n\u001b[0;32m----> 1\u001b[0m \u001b[43mhablo\u001b[49m\u001b[38;5;241;43m.\u001b[39;49m\u001b[43mmath_text_to_lambda\u001b[49m\u001b[43m(\u001b[49m\u001b[38;5;124;43m'\u001b[39;49m\u001b[38;5;124;43mRfree / PermGroFac[age]\u001b[39;49m\u001b[38;5;124;43m'\u001b[39;49m\u001b[43m)\u001b[49m\n",
      "File \u001b[0;32m~/projects/econ-ark/OverARK/Development/hablo/hablo_parser.py:79\u001b[0m, in \u001b[0;36mmath_text_to_lambda\u001b[0;34m(text)\u001b[0m\n\u001b[1;32m     78\u001b[0m \u001b[38;5;28;01mdef\u001b[39;00m \u001b[38;5;21mmath_text_to_lambda\u001b[39m(text):\n\u001b[0;32m---> 79\u001b[0m     expr \u001b[38;5;241m=\u001b[39m \u001b[43mparse_expr\u001b[49m\u001b[43m(\u001b[49m\u001b[43mtext\u001b[49m\u001b[43m)\u001b[49m\n\u001b[1;32m     80\u001b[0m     func \u001b[38;5;241m=\u001b[39m lambdify(\u001b[38;5;28mlist\u001b[39m(expr\u001b[38;5;241m.\u001b[39mfree_symbols), expr, \u001b[38;5;124m\"\u001b[39m\u001b[38;5;124mnumpy\u001b[39m\u001b[38;5;124m\"\u001b[39m)\n\u001b[1;32m     81\u001b[0m     \u001b[38;5;28;01mreturn\u001b[39;00m func\n",
      "File \u001b[0;32m~/miniconda3/lib/python3.8/site-packages/sympy/parsing/sympy_parser.py:1101\u001b[0m, in \u001b[0;36mparse_expr\u001b[0;34m(s, local_dict, transformations, global_dict, evaluate)\u001b[0m\n\u001b[1;32m   1099\u001b[0m \u001b[38;5;28;01mfor\u001b[39;00m i \u001b[38;5;129;01min\u001b[39;00m local_dict\u001b[38;5;241m.\u001b[39mpop(null, ()):\n\u001b[1;32m   1100\u001b[0m     local_dict[i] \u001b[38;5;241m=\u001b[39m null\n\u001b[0;32m-> 1101\u001b[0m \u001b[38;5;28;01mraise\u001b[39;00m e \u001b[38;5;28;01mfrom\u001b[39;00m \u001b[38;5;21;01mValueError\u001b[39;00m(\u001b[38;5;124mf\u001b[39m\u001b[38;5;124m\"\u001b[39m\u001b[38;5;124mError from parse_expr with transformed code: \u001b[39m\u001b[38;5;132;01m{\u001b[39;00mcode\u001b[38;5;132;01m!r}\u001b[39;00m\u001b[38;5;124m\"\u001b[39m)\n",
      "File \u001b[0;32m~/miniconda3/lib/python3.8/site-packages/sympy/parsing/sympy_parser.py:1092\u001b[0m, in \u001b[0;36mparse_expr\u001b[0;34m(s, local_dict, transformations, global_dict, evaluate)\u001b[0m\n\u001b[1;32m   1089\u001b[0m     code \u001b[38;5;241m=\u001b[39m \u001b[38;5;28mcompile\u001b[39m(evaluateFalse(code), \u001b[38;5;124m'\u001b[39m\u001b[38;5;124m<string>\u001b[39m\u001b[38;5;124m'\u001b[39m, \u001b[38;5;124m'\u001b[39m\u001b[38;5;124meval\u001b[39m\u001b[38;5;124m'\u001b[39m)\n\u001b[1;32m   1091\u001b[0m \u001b[38;5;28;01mtry\u001b[39;00m:\n\u001b[0;32m-> 1092\u001b[0m     rv \u001b[38;5;241m=\u001b[39m \u001b[43meval_expr\u001b[49m\u001b[43m(\u001b[49m\u001b[43mcode\u001b[49m\u001b[43m,\u001b[49m\u001b[43m \u001b[49m\u001b[43mlocal_dict\u001b[49m\u001b[43m,\u001b[49m\u001b[43m \u001b[49m\u001b[43mglobal_dict\u001b[49m\u001b[43m)\u001b[49m\n\u001b[1;32m   1093\u001b[0m     \u001b[38;5;66;03m# restore neutral definitions for names\u001b[39;00m\n\u001b[1;32m   1094\u001b[0m     \u001b[38;5;28;01mfor\u001b[39;00m i \u001b[38;5;129;01min\u001b[39;00m local_dict\u001b[38;5;241m.\u001b[39mpop(null, ()):\n",
      "File \u001b[0;32m~/miniconda3/lib/python3.8/site-packages/sympy/parsing/sympy_parser.py:907\u001b[0m, in \u001b[0;36meval_expr\u001b[0;34m(code, local_dict, global_dict)\u001b[0m\n\u001b[1;32m    901\u001b[0m \u001b[38;5;28;01mdef\u001b[39;00m \u001b[38;5;21meval_expr\u001b[39m(code, local_dict: DICT, global_dict: DICT):\n\u001b[1;32m    902\u001b[0m \u001b[38;5;250m    \u001b[39m\u001b[38;5;124;03m\"\"\"\u001b[39;00m\n\u001b[1;32m    903\u001b[0m \u001b[38;5;124;03m    Evaluate Python code generated by ``stringify_expr``.\u001b[39;00m\n\u001b[1;32m    904\u001b[0m \n\u001b[1;32m    905\u001b[0m \u001b[38;5;124;03m    Generally, ``parse_expr`` should be used.\u001b[39;00m\n\u001b[1;32m    906\u001b[0m \u001b[38;5;124;03m    \"\"\"\u001b[39;00m\n\u001b[0;32m--> 907\u001b[0m     expr \u001b[38;5;241m=\u001b[39m \u001b[38;5;28;43meval\u001b[39;49m\u001b[43m(\u001b[49m\n\u001b[1;32m    908\u001b[0m \u001b[43m        \u001b[49m\u001b[43mcode\u001b[49m\u001b[43m,\u001b[49m\u001b[43m \u001b[49m\u001b[43mglobal_dict\u001b[49m\u001b[43m,\u001b[49m\u001b[43m \u001b[49m\u001b[43mlocal_dict\u001b[49m\u001b[43m)\u001b[49m  \u001b[38;5;66;03m# take local objects in preference\u001b[39;00m\n\u001b[1;32m    909\u001b[0m     \u001b[38;5;28;01mreturn\u001b[39;00m expr\n",
      "File \u001b[0;32m<string>:1\u001b[0m\n",
      "\u001b[0;31mTypeError\u001b[0m: 'Symbol' object is not subscriptable"
     ]
    }
   ],
   "source": [
    "hablo.math_text_to_lambda('Rfree / PermGroFac[age]')"
   ]
  },
  {
   "cell_type": "code",
   "execution_count": null,
   "id": "c11b6067",
   "metadata": {},
   "outputs": [],
   "source": []
  }
 ],
 "metadata": {
  "kernelspec": {
   "display_name": "Python 3 (ipykernel)",
   "language": "python",
   "name": "python3"
  },
  "language_info": {
   "codemirror_mode": {
    "name": "ipython",
    "version": 3
   },
   "file_extension": ".py",
   "mimetype": "text/x-python",
   "name": "python",
   "nbconvert_exporter": "python",
   "pygments_lexer": "ipython3",
   "version": "3.8.13"
  }
 },
 "nbformat": 4,
 "nbformat_minor": 5
}
