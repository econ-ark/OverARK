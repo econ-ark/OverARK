{
 "cells": [
  {
   "cell_type": "code",
   "execution_count": 106,
   "metadata": {},
   "outputs": [],
   "source": [
    "from pprint import pprint\n",
    "\n",
    "import yaml\n",
    "import mock_parser\n",
    "from sympy import (\n",
    "    Eq,\n",
    "    Symbol,\n",
    "    diff,\n",
    "    init_printing,\n",
    "    simplify,\n",
    "    solve,\n",
    ")\n",
    "from sympy.parsing.sympy_parser import parse_expr\n",
    "from sympy.printing.latex import LatexPrinter\n",
    "\n",
    "\n",
    "# Define your own derivative notation\n",
    "def my_derivative_notation(self, expr):\n",
    "    function = expr.args[0]\n",
    "    variable = expr.args[1][0]  # Only get the variable, not the order\n",
    "    return \"\\partial_{%s} %s(%s, %s)\" % (\n",
    "        self._print(variable),\n",
    "        self._print(function.func),\n",
    "        self._print(function.args[0]),\n",
    "        self._print(function.args[1]),\n",
    "    )\n",
    "\n",
    "\n",
    "# Add your notation to the printer\n",
    "LatexPrinter._print_Derivative = my_derivative_notation\n",
    "\n",
    "\n",
    "# Use init_printing to apply changes globally\n",
    "init_printing(use_latex=\"mathjax\")"
   ]
  },
  {
   "cell_type": "markdown",
   "metadata": {},
   "source": [
    "## Load file contents\n"
   ]
  },
  {
   "cell_type": "code",
   "execution_count": 107,
   "metadata": {},
   "outputs": [],
   "source": [
    "with open(\"ret_pen.yml\", \"r\") as config:\n",
    "    model_config = yaml.safe_load_all(config)\n",
    "\n",
    "    model = [stage for stage in model_config]"
   ]
  },
  {
   "cell_type": "markdown",
   "metadata": {},
   "source": [
    "## Model metadata\n"
   ]
  },
  {
   "cell_type": "code",
   "execution_count": 108,
   "metadata": {},
   "outputs": [
    {
     "name": "stdout",
     "output_type": "stream",
     "text": [
      "Consumption-Pension Deposit Model\n",
      "Alan Lujan\n",
      "['Johns Hopkins University', 'Econ-ARK']\n",
      "12/13/2023\n",
      "('This model is a lifecycle model with two life stages: working life and '\n",
      " 'retirement. The working life stage is further divided into three blocks: '\n",
      " 'expectation, deposit, and consumption. During the working life stage, a '\n",
      " 'consumer receives permanent and transitory income shocks and  decides how '\n",
      " 'much to consume and how much to deposit in a pension fund. The pension fund '\n",
      " 'is invested in a risky asset and the consumer receives a risky return on the '\n",
      " 'pension fund. The consumer also has a liquid asset which is invested in a '\n",
      " 'risk-free account.\\n')\n"
     ]
    }
   ],
   "source": [
    "print(model[0][\"model\"])\n",
    "print(model[0][\"author\"])\n",
    "print(model[0][\"affiliation\"])\n",
    "print(model[0][\"date\"])\n",
    "pprint(model[0][\"abstract\"])"
   ]
  },
  {
   "cell_type": "markdown",
   "metadata": {},
   "source": [
    "# Stage 1: Working Life before Retirement\n"
   ]
  },
  {
   "cell_type": "code",
   "execution_count": 109,
   "metadata": {},
   "outputs": [
    {
     "name": "stdout",
     "output_type": "stream",
     "text": [
      "working\n",
      "'working life before retirement'\n"
     ]
    }
   ],
   "source": [
    "print(model[1][\"name\"])\n",
    "pprint(model[1][\"description\"])"
   ]
  },
  {
   "cell_type": "code",
   "execution_count": 110,
   "metadata": {},
   "outputs": [
    {
     "data": {
      "text/plain": [
       "[{'name': 'aNrm',\n",
       "  'domain': [0.0, 'inf'],\n",
       "  'description': 'normalized (a)ssets after consumption'},\n",
       " {'name': 'bNrm',\n",
       "  'domain': [0.0, 'inf'],\n",
       "  'description': 'normalized (b)alance in pension fund after deposit'},\n",
       " {'name': 'jNrm',\n",
       "  'domain': [0.0, 'inf'],\n",
       "  'description': 'normalized wealth (j)ust before income'},\n",
       " {'name': 'kNrm',\n",
       "  'domain': [0.0, 'inf'],\n",
       "  'description': 'normalized pension (k)apital before income'},\n",
       " {'name': 'lNrm',\n",
       "  'domain': [0.0, 'inf'],\n",
       "  'description': 'normalized (l)iquid assets after deposit'},\n",
       " {'name': 'mNrm',\n",
       "  'domain': [0.0, 'inf'],\n",
       "  'description': 'normalized (m)arket resources'},\n",
       " {'name': 'nNrm',\n",
       "  'domain': [0.0, 'inf'],\n",
       "  'description': 'normalized (n)et retirement balance'}]"
      ]
     },
     "execution_count": 110,
     "metadata": {},
     "output_type": "execute_result"
    }
   ],
   "source": [
    "model[1][\"states\"]"
   ]
  },
  {
   "cell_type": "code",
   "execution_count": 111,
   "metadata": {},
   "outputs": [
    {
     "data": {
      "text/plain": [
       "[{'name': 'cNrm',\n",
       "  'domain': [0.0, 'lNrm'],\n",
       "  'description': 'normalized consumption'},\n",
       " {'name': 'dNrm',\n",
       "  'domain': [0.0, 'mNrm'],\n",
       "  'description': 'normalized pension deposit'}]"
      ]
     },
     "execution_count": 111,
     "metadata": {},
     "output_type": "execute_result"
    }
   ],
   "source": [
    "model[1][\"controls\"]"
   ]
  },
  {
   "cell_type": "code",
   "execution_count": 112,
   "metadata": {},
   "outputs": [
    {
     "data": {
      "text/plain": [
       "[{'name': 'perm',\n",
       "  'description': 'permanent income shock',\n",
       "  'distribution': <mock_parser.MeanOneLogNormal at 0x1d542569660>},\n",
       " {'name': 'tran',\n",
       "  'description': 'transitory income shock',\n",
       "  'distribution': <mock_parser.MeanOneLogNormal at 0x1d54256b4f0>},\n",
       " {'name': 'risky',\n",
       "  'description': 'risky asset return',\n",
       "  'distribution': <mock_parser.LogNormal at 0x1d54256b430>}]"
      ]
     },
     "execution_count": 112,
     "metadata": {},
     "output_type": "execute_result"
    }
   ],
   "source": [
    "model[1][\"distributions\"]"
   ]
  },
  {
   "cell_type": "markdown",
   "metadata": {},
   "source": [
    "## Stage 1: Blocks\n"
   ]
  },
  {
   "cell_type": "code",
   "execution_count": 113,
   "metadata": {},
   "outputs": [
    {
     "data": {
      "text/plain": [
       "['expectation', 'deposit', 'consumption']"
      ]
     },
     "execution_count": 113,
     "metadata": {},
     "output_type": "execute_result"
    }
   ],
   "source": [
    "[block[\"name\"] for block in model[1][\"blocks\"]]"
   ]
  },
  {
   "cell_type": "markdown",
   "metadata": {},
   "source": [
    "### Expectation Block\n"
   ]
  },
  {
   "cell_type": "code",
   "execution_count": 114,
   "metadata": {},
   "outputs": [
    {
     "data": {
      "text/plain": [
       "{'name': 'expectation',\n",
       " 'description': 'expectation block',\n",
       " 'states': [{'name': 'jNrm',\n",
       "   'domain': [0.0, 'inf'],\n",
       "   'description': 'normalized wealth (j)ust before income'},\n",
       "  {'name': 'kNrm',\n",
       "   'domain': [0.0, 'inf'],\n",
       "   'description': 'normalized pension (k)apital before income'}],\n",
       " 'distributions': [{'name': 'perm',\n",
       "   'description': 'permanent income shock',\n",
       "   'distribution': <mock_parser.MeanOneLogNormal at 0x1d542569660>},\n",
       "  {'name': 'tran',\n",
       "   'description': 'transitory income shock',\n",
       "   'distribution': <mock_parser.MeanOneLogNormal at 0x1d54256b4f0>},\n",
       "  {'name': 'risky',\n",
       "   'description': 'risky asset return',\n",
       "   'distribution': <mock_parser.LogNormal at 0x1d54256b430>}],\n",
       " 'parameters': ['CRRA',\n",
       "  'Rfree',\n",
       "  'PermGroFac',\n",
       "  'std_perm',\n",
       "  'std_tran',\n",
       "  'mean_risky',\n",
       "  'std_risky'],\n",
       " 'equations': {'objective': ['v(jNrm, kNrm) = PermAdj^(1-CRRA) * w(mNrm, nNrm)'],\n",
       "  'transitions': ['mNrm = Rfree * jNrm / PermAdj + tran',\n",
       "   'nNrm = risky * kNrm / PermAdj'],\n",
       "  'definitions': ['PermAdj = PermGroFac * perm',\n",
       "   'Rport = (Rfree * jNrm + risky * kNrm) / (jNrm + kNrm)']}}"
      ]
     },
     "execution_count": 114,
     "metadata": {},
     "output_type": "execute_result"
    }
   ],
   "source": [
    "model[1][\"blocks\"][0]"
   ]
  },
  {
   "cell_type": "markdown",
   "metadata": {},
   "source": [
    "### Deposit Block\n"
   ]
  },
  {
   "cell_type": "code",
   "execution_count": 115,
   "metadata": {},
   "outputs": [
    {
     "data": {
      "text/plain": [
       "{'name': 'deposit',\n",
       " 'description': 'deposit block',\n",
       " 'states': [{'name': 'mNrm',\n",
       "   'domain': [0.0, 'inf'],\n",
       "   'description': 'normalized (m)arket resources'},\n",
       "  {'name': 'nNrm',\n",
       "   'domain': [0.0, 'inf'],\n",
       "   'description': 'normalized (n)et retirement balance'}],\n",
       " 'controls': [{'name': 'dNrm',\n",
       "   'domain': [0.0, 'mNrm'],\n",
       "   'description': 'normalized pension deposit'}],\n",
       " 'parameters': ['chi'],\n",
       " 'equations': {'objective': ['v(mNrm, nNrm) = w(lNrm, bNrm)'],\n",
       "  'transitions': ['lNrm = mNrm - dNrm', 'bNrm = nNrm + dNrm + g(dNrm)'],\n",
       "  'definitions': ['g(dNrm) = chi * log(dNrm + 1)']}}"
      ]
     },
     "execution_count": 115,
     "metadata": {},
     "output_type": "execute_result"
    }
   ],
   "source": [
    "deposit_block = model[1][\"blocks\"][1]\n",
    "deposit_block"
   ]
  },
  {
   "cell_type": "markdown",
   "metadata": {},
   "source": [
    "### Consumption Block\n"
   ]
  },
  {
   "cell_type": "code",
   "execution_count": 116,
   "metadata": {},
   "outputs": [
    {
     "data": {
      "text/plain": [
       "{'name': 'consumption',\n",
       " 'description': 'consumption block',\n",
       " 'states': [{'name': 'lNrm',\n",
       "   'domain': [0.0, 'inf'],\n",
       "   'description': 'normalized (l)iquid assets after deposit'},\n",
       "  {'name': 'bNrm',\n",
       "   'domain': [0.0, 'inf'],\n",
       "   'description': 'normalized (b)alance in pension fund after deposit'}],\n",
       " 'controls': [{'name': 'cNrm',\n",
       "   'domain': [0.0, 'lNrm'],\n",
       "   'description': 'normalized consumption'}],\n",
       " 'parameters': ['CRRA', 'DiscFac', 'LivPrb'],\n",
       " 'equations': {'objective': ['v(lNrm, bNrm) = u(cNrm) + beta * w(aNrm, bNrm)'],\n",
       "  'transitions': ['aNrm = lNrm - cNrm'],\n",
       "  'definitions': ['u(cNrm) = cNrm ** (1 - CRRA) / (1 - CRRA)',\n",
       "   'beta = DiscFac * LivPrb']}}"
      ]
     },
     "execution_count": 116,
     "metadata": {},
     "output_type": "execute_result"
    }
   ],
   "source": [
    "consumption_block = model[1][\"blocks\"][2]\n",
    "consumption_block"
   ]
  },
  {
   "cell_type": "markdown",
   "metadata": {},
   "source": [
    "## Endogenous Grid Method\n"
   ]
  },
  {
   "cell_type": "markdown",
   "metadata": {},
   "source": [
    "### Deposit Solution\n"
   ]
  },
  {
   "cell_type": "code",
   "execution_count": 117,
   "metadata": {},
   "outputs": [],
   "source": [
    "# Parse equations from the dictionary\n",
    "\n",
    "\n",
    "def parse_eq(eq_str):\n",
    "    # Remove 'Nrm' from the equation string\n",
    "    eq_str = eq_str.replace(\"Nrm\", \"\")\n",
    "\n",
    "    beta = Symbol(\"beta\")\n",
    "    rho = Symbol(\"rho\")\n",
    "    syms = {\"beta\": beta, \"CRRA\": rho}\n",
    "\n",
    "    lhs_str, rhs_str = eq_str.split(\"=\")\n",
    "    lhs = parse_expr(lhs_str.strip(), local_dict=syms)\n",
    "    rhs = parse_expr(rhs_str.strip(), local_dict=syms)\n",
    "    return Eq(lhs, rhs)\n",
    "\n",
    "\n",
    "def parse_block(block):\n",
    "    objective = parse_eq(block[\"equations\"][\"objective\"][0])\n",
    "    transitions = [parse_eq(eq) for eq in block[\"equations\"][\"transitions\"]]\n",
    "    definitions = [parse_eq(eq) for eq in block[\"equations\"][\"definitions\"]]\n",
    "\n",
    "    return objective, transitions, definitions\n",
    "\n",
    "\n",
    "def subs_eq_lr(eq, substitutes):\n",
    "    eq = eq.doit()\n",
    "    # Substitute transitions and definitions into objective\n",
    "    for subs_eq in substitutes:\n",
    "        eq = eq.subs(subs_eq.lhs, subs_eq.rhs)\n",
    "\n",
    "    return eq.doit()\n",
    "\n",
    "\n",
    "def subs_eq_rl(eq, substitutes):\n",
    "    eq = eq.doit()\n",
    "    # Substitute transitions and definitions into objective\n",
    "    for subs_eq in substitutes:\n",
    "        eq = eq.subs(subs_eq.rhs, subs_eq.lhs)\n",
    "\n",
    "    return eq.doit()"
   ]
  },
  {
   "cell_type": "code",
   "execution_count": 118,
   "metadata": {},
   "outputs": [
    {
     "data": {
      "text/latex": [
       "$\\displaystyle v{\\left(m,n \\right)} = w{\\left(l,b \\right)}$"
      ],
      "text/plain": [
       "v(m, n) = w(l, b)"
      ]
     },
     "execution_count": 118,
     "metadata": {},
     "output_type": "execute_result"
    }
   ],
   "source": [
    "objective_eq, transitions_eqs, definitions_eqs = parse_block(deposit_block)\n",
    "objective_eq\n"
   ]
  },
  {
   "cell_type": "code",
   "execution_count": 119,
   "metadata": {},
   "outputs": [
    {
     "data": {
      "text/latex": [
       "$\\displaystyle v{\\left(m,n \\right)} = w{\\left(- d + m,\\chi \\log{\\left(d + 1 \\right)} + d + n \\right)}$"
      ],
      "text/plain": [
       "v(m, n) = w(-d + m, χ⋅log(d + 1) + d + n)"
      ]
     },
     "execution_count": 119,
     "metadata": {},
     "output_type": "execute_result"
    }
   ],
   "source": [
    "objective_eq = subs_eq_lr(objective_eq, transitions_eqs)\n",
    "objective_eq = subs_eq_lr(objective_eq, definitions_eqs)\n",
    "\n",
    "# Simplify the final equation\n",
    "final_eq = simplify(objective_eq)\n",
    "\n",
    "final_eq"
   ]
  },
  {
   "cell_type": "markdown",
   "metadata": {},
   "source": [
    "#### Envelope Conditions\n"
   ]
  },
  {
   "cell_type": "code",
   "execution_count": 120,
   "metadata": {},
   "outputs": [
    {
     "data": {
      "text/latex": [
       "$\\displaystyle \\partial_{m} v(m, n) = \\partial_{l} w(l, b)$"
      ],
      "text/plain": [
       "∂             ∂          \n",
       "──(v(m, n)) = ──(w(l, b))\n",
       "∂m            ∂l         "
      ]
     },
     "execution_count": 120,
     "metadata": {},
     "output_type": "execute_result"
    }
   ],
   "source": [
    "ec_m = Eq(diff(final_eq.lhs, \"m\"), diff(final_eq.rhs, \"m\"))\n",
    "ec_m = subs_eq_rl(ec_m, definitions_eqs)\n",
    "ec_m = subs_eq_rl(ec_m, transitions_eqs)\n",
    "ec_m"
   ]
  },
  {
   "cell_type": "code",
   "execution_count": 121,
   "metadata": {},
   "outputs": [
    {
     "data": {
      "text/latex": [
       "$\\displaystyle \\partial_{n} v(m, n) = \\partial_{b} w(l, b)$"
      ],
      "text/plain": [
       "∂             ∂          \n",
       "──(v(m, n)) = ──(w(l, b))\n",
       "∂n            ∂b         "
      ]
     },
     "execution_count": 121,
     "metadata": {},
     "output_type": "execute_result"
    }
   ],
   "source": [
    "ec_n = Eq(diff(final_eq.lhs, \"n\"), diff(final_eq.rhs, \"n\"))\n",
    "ec_n = subs_eq_rl(ec_n, definitions_eqs)\n",
    "ec_n = subs_eq_rl(ec_n, transitions_eqs)\n",
    "ec_n"
   ]
  },
  {
   "cell_type": "markdown",
   "metadata": {},
   "source": [
    "#### Euler Equation\n"
   ]
  },
  {
   "cell_type": "code",
   "execution_count": 122,
   "metadata": {},
   "outputs": [
    {
     "data": {
      "text/latex": [
       "$\\displaystyle 0 = \\left(\\frac{\\chi}{d + 1} + 1\\right) \\left. \\partial_{\\xi_{2}} w(- d + m, \\xi_{2}) \\right|_{\\substack{ \\xi_{2}=\\chi \\log{\\left(d + 1 \\right)} + d + n }} - \\left. \\partial_{\\xi_{1}} w(\\xi_{1}, \\chi \\log{\\left(d + 1 \\right)} + d + n) \\right|_{\\substack{ \\xi_{1}=- d + m }}$"
      ],
      "text/plain": [
       "    ⎛  χ      ⎞ ⎛ ∂                ⎞│                          ⎛ ∂            \n",
       "0 = ⎜───── + 1⎟⋅⎜───(w(-d + m, ξ₂))⎟│                        - ⎜───(w(ξ₁, χ⋅lo\n",
       "    ⎝d + 1    ⎠ ⎝∂ξ₂               ⎠│ξ₂=χ⋅log(d + 1) + d + n   ⎝∂ξ₁           \n",
       "\n",
       "                  ⎞│         \n",
       "g(d + 1) + d + n))⎟│         \n",
       "                  ⎠│ξ₁=-d + m"
      ]
     },
     "execution_count": 122,
     "metadata": {},
     "output_type": "execute_result"
    }
   ],
   "source": [
    "euler_eq = Eq(0, diff(final_eq.rhs, \"d\"))\n",
    "euler_eq"
   ]
  },
  {
   "cell_type": "code",
   "execution_count": 123,
   "metadata": {},
   "outputs": [
    {
     "data": {
      "text/latex": [
       "$\\displaystyle \\frac{\\chi \\left. \\partial_{\\xi_{2}} w(- d + m, \\xi_{2}) \\right|_{\\substack{ \\xi_{2}=\\chi \\log{\\left(d + 1 \\right)} + d + n }} - \\left. \\partial_{\\xi_{1}} w(\\xi_{1}, \\chi \\log{\\left(d + 1 \\right)} + d + n) \\right|_{\\substack{ \\xi_{1}=- d + m }} + \\left. \\partial_{\\xi_{2}} w(- d + m, \\xi_{2}) \\right|_{\\substack{ \\xi_{2}=\\chi \\log{\\left(d + 1 \\right)} + d + n }}}{\\left. \\partial_{\\xi_{1}} w(\\xi_{1}, \\chi \\log{\\left(d + 1 \\right)} + d + n) \\right|_{\\substack{ \\xi_{1}=- d + m }} - \\left. \\partial_{\\xi_{2}} w(- d + m, \\xi_{2}) \\right|_{\\substack{ \\xi_{2}=\\chi \\log{\\left(d + 1 \\right)} + d + n }}}$"
      ],
      "text/plain": [
       "  ⎛ ∂                ⎞│                          ⎛ ∂                          \n",
       "χ⋅⎜───(w(-d + m, ξ₂))⎟│                        - ⎜───(w(ξ₁, χ⋅log(d + 1) + d +\n",
       "  ⎝∂ξ₂               ⎠│ξ₂=χ⋅log(d + 1) + d + n   ⎝∂ξ₁                         \n",
       "──────────────────────────────────────────────────────────────────────────────\n",
       "                        ⎛ ∂                              ⎞│            ⎛ ∂    \n",
       "                        ⎜───(w(ξ₁, χ⋅log(d + 1) + d + n))⎟│          - ⎜───(w(\n",
       "                        ⎝∂ξ₁                             ⎠│ξ₁=-d + m   ⎝∂ξ₂   \n",
       "\n",
       "    ⎞│            ⎛ ∂                ⎞│                       \n",
       " n))⎟│          + ⎜───(w(-d + m, ξ₂))⎟│                       \n",
       "    ⎠│ξ₁=-d + m   ⎝∂ξ₂               ⎠│ξ₂=χ⋅log(d + 1) + d + n\n",
       "──────────────────────────────────────────────────────────────\n",
       "            ⎞│                                                \n",
       "-d + m, ξ₂))⎟│                                                \n",
       "            ⎠│ξ₂=χ⋅log(d + 1) + d + n                         "
      ]
     },
     "execution_count": 123,
     "metadata": {},
     "output_type": "execute_result"
    }
   ],
   "source": [
    "egm = solve(euler_eq, \"d\")\n",
    "solution = egm[0]\n",
    "solution"
   ]
  },
  {
   "cell_type": "code",
   "execution_count": 124,
   "metadata": {},
   "outputs": [],
   "source": [
    "# needs to be run twice for some reason\n",
    "\n",
    "solution = subs_eq_rl(solution, definitions_eqs)\n",
    "solution = subs_eq_rl(solution, transitions_eqs)"
   ]
  },
  {
   "cell_type": "markdown",
   "metadata": {},
   "source": [
    "#### Inverted Euler Equation\n"
   ]
  },
  {
   "cell_type": "code",
   "execution_count": 125,
   "metadata": {},
   "outputs": [
    {
     "data": {
      "text/latex": [
       "$\\displaystyle \\mathfrak{d} = \\frac{- \\chi \\partial_{b} w(l, b) - \\partial_{b} w(l, b) + \\partial_{l} w(l, b)}{\\partial_{b} w(l, b) - \\partial_{l} w(l, b)}$"
      ],
      "text/plain": [
       "                   ∂             ∂             ∂          \n",
       "               - χ⋅──(w(l, b)) - ──(w(l, b)) + ──(w(l, b))\n",
       "                   ∂b            ∂b            ∂l         \n",
       "\\mathfrak{d} = ───────────────────────────────────────────\n",
       "                        ∂             ∂                   \n",
       "                        ──(w(l, b)) - ──(w(l, b))         \n",
       "                        ∂b            ∂l                  "
      ]
     },
     "execution_count": 125,
     "metadata": {},
     "output_type": "execute_result"
    }
   ],
   "source": [
    "Eq(Symbol(\"\\mathfrak{d}\"), simplify(solution))"
   ]
  },
  {
   "cell_type": "markdown",
   "metadata": {},
   "source": [
    "### Consumption Solution\n"
   ]
  },
  {
   "cell_type": "code",
   "execution_count": 126,
   "metadata": {},
   "outputs": [
    {
     "data": {
      "text/latex": [
       "$\\displaystyle v{\\left(l,b \\right)} = \\beta w{\\left(a,b \\right)} + u{\\left(c \\right)}$"
      ],
      "text/plain": [
       "v(l, b) = β⋅w(a, b) + u(c)"
      ]
     },
     "execution_count": 126,
     "metadata": {},
     "output_type": "execute_result"
    }
   ],
   "source": [
    "objective_eq, transitions_eqs, definitions_eqs = parse_block(consumption_block)\n",
    "objective_eq\n"
   ]
  },
  {
   "cell_type": "code",
   "execution_count": 127,
   "metadata": {},
   "outputs": [
    {
     "data": {
      "text/latex": [
       "$\\displaystyle v{\\left(l,b \\right)} = \\frac{DiscFac LivPrb \\left(\\rho - 1\\right) w{\\left(- c + l,b \\right)} - c^{1 - \\rho}}{\\rho - 1}$"
      ],
      "text/plain": [
       "                                                 1 - ρ\n",
       "          DiscFac⋅LivPrb⋅(ρ - 1)⋅w(-c + l, b) - c     \n",
       "v(l, b) = ────────────────────────────────────────────\n",
       "                             ρ - 1                    "
      ]
     },
     "execution_count": 127,
     "metadata": {},
     "output_type": "execute_result"
    }
   ],
   "source": [
    "objective_eq = subs_eq_lr(objective_eq, transitions_eqs)\n",
    "objective_eq = subs_eq_lr(objective_eq, definitions_eqs)\n",
    "\n",
    "# Simplify the final equation\n",
    "final_eq = simplify(objective_eq)\n",
    "\n",
    "final_eq"
   ]
  },
  {
   "cell_type": "markdown",
   "metadata": {},
   "source": [
    "#### Envelope Conditions\n"
   ]
  },
  {
   "cell_type": "code",
   "execution_count": 128,
   "metadata": {},
   "outputs": [
    {
     "data": {
      "text/latex": [
       "$\\displaystyle \\partial_{l} v(l, b) = \\beta \\partial_{a} w(a, b)$"
      ],
      "text/plain": [
       "∂               ∂          \n",
       "──(v(l, b)) = β⋅──(w(a, b))\n",
       "∂l              ∂a         "
      ]
     },
     "execution_count": 128,
     "metadata": {},
     "output_type": "execute_result"
    }
   ],
   "source": [
    "ec_l = Eq(diff(final_eq.lhs, \"l\"), diff(final_eq.rhs, \"l\"))\n",
    "ec_l = subs_eq_rl(ec_l, definitions_eqs)\n",
    "ec_l = subs_eq_rl(ec_l, transitions_eqs)\n",
    "ec_l"
   ]
  },
  {
   "cell_type": "code",
   "execution_count": 129,
   "metadata": {},
   "outputs": [
    {
     "data": {
      "text/latex": [
       "$\\displaystyle \\partial_{b} v(l, b) = \\beta \\partial_{b} w(a, b)$"
      ],
      "text/plain": [
       "∂               ∂          \n",
       "──(v(l, b)) = β⋅──(w(a, b))\n",
       "∂b              ∂b         "
      ]
     },
     "execution_count": 129,
     "metadata": {},
     "output_type": "execute_result"
    }
   ],
   "source": [
    "ec_b = Eq(diff(final_eq.lhs, \"b\"), diff(final_eq.rhs, \"b\"))\n",
    "ec_b = subs_eq_rl(ec_b, definitions_eqs)\n",
    "ec_b = subs_eq_rl(ec_b, transitions_eqs)\n",
    "ec_b"
   ]
  },
  {
   "cell_type": "markdown",
   "metadata": {},
   "source": [
    "#### Euler Equation\n"
   ]
  },
  {
   "cell_type": "code",
   "execution_count": 130,
   "metadata": {},
   "outputs": [
    {
     "data": {
      "text/latex": [
       "$\\displaystyle 0 = \\frac{- DiscFac LivPrb \\left(\\rho - 1\\right) \\left. \\partial_{\\xi_{1}} w(\\xi_{1}, b) \\right|_{\\substack{ \\xi_{1}=- c + l }} - \\frac{c^{1 - \\rho} \\left(1 - \\rho\\right)}{c}}{\\rho - 1}$"
      ],
      "text/plain": [
       "                                                          1 - ρ        \n",
       "                             ⎛ ∂           ⎞│            c     ⋅(1 - ρ)\n",
       "    - DiscFac⋅LivPrb⋅(ρ - 1)⋅⎜───(w(ξ₁, b))⎟│          - ──────────────\n",
       "                             ⎝∂ξ₁          ⎠│ξ₁=-c + l         c       \n",
       "0 = ───────────────────────────────────────────────────────────────────\n",
       "                                   ρ - 1                               "
      ]
     },
     "execution_count": 130,
     "metadata": {},
     "output_type": "execute_result"
    }
   ],
   "source": [
    "euler_eq = Eq(0, diff(final_eq.rhs, \"c\"))\n",
    "euler_eq"
   ]
  },
  {
   "cell_type": "code",
   "execution_count": 131,
   "metadata": {},
   "outputs": [
    {
     "data": {
      "text/latex": [
       "$\\displaystyle \\left(\\frac{1}{DiscFac LivPrb \\left. \\partial_{\\xi_{1}} w(\\xi_{1}, b) \\right|_{\\substack{ \\xi_{1}=- c + l }}}\\right)^{\\frac{1}{\\rho}}$"
      ],
      "text/plain": [
       "      __________________________________________\n",
       "     ╱                    1                     \n",
       "    ╱  ──────────────────────────────────────── \n",
       "   ╱                  ⎛ ∂           ⎞│          \n",
       "ρ ╱    DiscFac⋅LivPrb⋅⎜───(w(ξ₁, b))⎟│          \n",
       "╲╱                    ⎝∂ξ₁          ⎠│ξ₁=-c + l "
      ]
     },
     "execution_count": 131,
     "metadata": {},
     "output_type": "execute_result"
    }
   ],
   "source": [
    "egm = solve(euler_eq, \"c\")\n",
    "solution = egm[0]\n",
    "solution"
   ]
  },
  {
   "cell_type": "code",
   "execution_count": 132,
   "metadata": {},
   "outputs": [],
   "source": [
    "# needs to be run twice for some reason\n",
    "\n",
    "solution = subs_eq_rl(solution, definitions_eqs)\n",
    "solution = subs_eq_rl(solution, transitions_eqs)"
   ]
  },
  {
   "cell_type": "markdown",
   "metadata": {},
   "source": [
    "#### Inverted Euler Equation\n"
   ]
  },
  {
   "cell_type": "code",
   "execution_count": 133,
   "metadata": {},
   "outputs": [
    {
     "data": {
      "text/latex": [
       "$\\displaystyle \\mathfrak{c} = \\left(\\frac{1}{\\beta \\partial_{a} w(a, b)}\\right)^{\\frac{1}{\\rho}}$"
      ],
      "text/plain": [
       "                     _______________\n",
       "                    ╱       1       \n",
       "\\mathfrak{c} =     ╱  ───────────── \n",
       "                  ╱     ∂           \n",
       "               ρ ╱    β⋅──(w(a, b)) \n",
       "               ╲╱       ∂a          "
      ]
     },
     "execution_count": 133,
     "metadata": {},
     "output_type": "execute_result"
    }
   ],
   "source": [
    "Eq(Symbol(\"\\mathfrak{c}\"), simplify(solution))"
   ]
  },
  {
   "cell_type": "code",
   "execution_count": 134,
   "metadata": {},
   "outputs": [
    {
     "data": {
      "text/latex": [
       "$\\displaystyle \\left(\\frac{1}{\\beta \\partial_{a} w(a, b)}\\right)^{\\frac{1}{\\rho}}$"
      ],
      "text/plain": [
       "      _______________\n",
       "     ╱       1       \n",
       "    ╱  ───────────── \n",
       "   ╱     ∂           \n",
       "ρ ╱    β⋅──(w(a, b)) \n",
       "╲╱       ∂a          "
      ]
     },
     "execution_count": 134,
     "metadata": {},
     "output_type": "execute_result"
    }
   ],
   "source": [
    "solution"
   ]
  },
  {
   "cell_type": "code",
   "execution_count": null,
   "metadata": {},
   "outputs": [],
   "source": []
  }
 ],
 "metadata": {
  "kernelspec": {
   "display_name": "base",
   "language": "python",
   "name": "python3"
  },
  "language_info": {
   "codemirror_mode": {
    "name": "ipython",
    "version": 3
   },
   "file_extension": ".py",
   "mimetype": "text/x-python",
   "name": "python",
   "nbconvert_exporter": "python",
   "pygments_lexer": "ipython3",
   "version": "3.10.13"
  }
 },
 "nbformat": 4,
 "nbformat_minor": 2
}
