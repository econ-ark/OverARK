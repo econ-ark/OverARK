{
 "cells": [
  {
   "cell_type": "code",
   "execution_count": 108,
   "metadata": {},
   "outputs": [],
   "source": [
    "import yaml\n",
    "import mock_parser\n",
    "from pprint import pprint\n",
    "from sympy import *\n",
    "from sympy.parsing.sympy_parser import (\n",
    "    parse_expr,\n",
    "    standard_transformations,\n",
    "    implicit_multiplication_application,\n",
    ")"
   ]
  },
  {
   "cell_type": "markdown",
   "metadata": {},
   "source": [
    "## Load file contents"
   ]
  },
  {
   "cell_type": "code",
   "execution_count": 109,
   "metadata": {},
   "outputs": [],
   "source": [
    "with open(\"ret_pen.yml\", \"r\") as config:\n",
    "    model_config = yaml.safe_load_all(config)\n",
    "    \n",
    "    model = [stage for stage in model_config]"
   ]
  },
  {
   "cell_type": "markdown",
   "metadata": {},
   "source": [
    "## Model metadata"
   ]
  },
  {
   "cell_type": "code",
   "execution_count": 110,
   "metadata": {},
   "outputs": [
    {
     "name": "stdout",
     "output_type": "stream",
     "text": [
      "Consumption-Pension Deposit Model\n",
      "Alan Lujan\n",
      "['Johns Hopkins University', 'Econ-ARK']\n",
      "12/13/2023\n",
      "This model is a lifecycle model with two life stages: working life and retirem\n",
      "ent. The working life stage is further divided into three blocks: expectation,\n",
      " deposit, and consumption. During the working life stage, a consumer receives \n",
      "permanent and transitory income shocks and  decides how much to consume and ho\n",
      "w much to deposit in a pension fund. The pension fund is invested in a risky a\n",
      "sset and the consumer receives a risky return on the pension fund. The consume\n",
      "r also has a liquid asset which is invested in a risk-free account.\n"
     ]
    }
   ],
   "source": [
    "print(model[0][\"model\"])\n",
    "print(model[0][\"author\"])\n",
    "print(model[0][\"affiliation\"])\n",
    "print(model[0][\"date\"])\n",
    "pprint(model[0][\"abstract\"])"
   ]
  },
  {
   "cell_type": "markdown",
   "metadata": {},
   "source": [
    "# Stage 1: Working Life before Retirement"
   ]
  },
  {
   "cell_type": "code",
   "execution_count": 111,
   "metadata": {},
   "outputs": [
    {
     "name": "stdout",
     "output_type": "stream",
     "text": [
      "working\n",
      "working life before retirement\n"
     ]
    }
   ],
   "source": [
    "print(model[1][\"name\"])\n",
    "pprint(model[1][\"description\"])"
   ]
  },
  {
   "cell_type": "code",
   "execution_count": 112,
   "metadata": {},
   "outputs": [
    {
     "data": {
      "text/plain": [
       "[{'name': 'aNrm',\n",
       "  'domain': [0.0, 'inf'],\n",
       "  'description': 'normalized (a)ssets after consumption'},\n",
       " {'name': 'bNrm',\n",
       "  'domain': [0.0, 'inf'],\n",
       "  'description': 'normalized (b)alance in pension fund after deposit'},\n",
       " {'name': 'jNrm',\n",
       "  'domain': [0.0, 'inf'],\n",
       "  'description': 'normalized wealth (j)ust before income'},\n",
       " {'name': 'kNrm',\n",
       "  'domain': [0.0, 'inf'],\n",
       "  'description': 'normalized pension (k)apital before income'},\n",
       " {'name': 'lNrm',\n",
       "  'domain': [0.0, 'inf'],\n",
       "  'description': 'normalized (l)iquid assets after deposit'},\n",
       " {'name': 'mNrm',\n",
       "  'domain': [0.0, 'inf'],\n",
       "  'description': 'normalized (m)arket resources'},\n",
       " {'name': 'nNrm',\n",
       "  'domain': [0.0, 'inf'],\n",
       "  'description': 'normalized (n)et retirement balance'}]"
      ]
     },
     "execution_count": 112,
     "metadata": {},
     "output_type": "execute_result"
    }
   ],
   "source": [
    "model[1][\"states\"]"
   ]
  },
  {
   "cell_type": "code",
   "execution_count": 113,
   "metadata": {},
   "outputs": [
    {
     "data": {
      "text/plain": [
       "[{'name': 'cNrm',\n",
       "  'domain': [0.0, 'lNrm'],\n",
       "  'description': 'normalized consumption'},\n",
       " {'name': 'dNrm',\n",
       "  'domain': [0.0, 'mNrm'],\n",
       "  'description': 'normalized pension deposit'}]"
      ]
     },
     "execution_count": 113,
     "metadata": {},
     "output_type": "execute_result"
    }
   ],
   "source": [
    "model[1][\"controls\"]"
   ]
  },
  {
   "cell_type": "code",
   "execution_count": 114,
   "metadata": {},
   "outputs": [
    {
     "data": {
      "text/plain": [
       "[{'name': 'perm',\n",
       "  'description': 'permanent income shock',\n",
       "  'distribution': <mock_parser.MeanOneLogNormal at 0x2c5316b1e40>},\n",
       " {'name': 'tran',\n",
       "  'description': 'transitory income shock',\n",
       "  'distribution': <mock_parser.MeanOneLogNormal at 0x2c5316b2950>},\n",
       " {'name': 'risky',\n",
       "  'description': 'risky asset return',\n",
       "  'distribution': <mock_parser.LogNormal at 0x2c5316b2890>}]"
      ]
     },
     "execution_count": 114,
     "metadata": {},
     "output_type": "execute_result"
    }
   ],
   "source": [
    "model[1][\"distributions\"]"
   ]
  },
  {
   "cell_type": "markdown",
   "metadata": {},
   "source": [
    "## Stage 1: Blocks"
   ]
  },
  {
   "cell_type": "code",
   "execution_count": 115,
   "metadata": {},
   "outputs": [
    {
     "data": {
      "text/plain": [
       "['expectation', 'deposit', 'consumption']"
      ]
     },
     "execution_count": 115,
     "metadata": {},
     "output_type": "execute_result"
    }
   ],
   "source": [
    "[block[\"name\"] for block in model[1][\"blocks\"]]"
   ]
  },
  {
   "cell_type": "markdown",
   "metadata": {},
   "source": [
    "### Expectation Block"
   ]
  },
  {
   "cell_type": "code",
   "execution_count": 116,
   "metadata": {},
   "outputs": [
    {
     "data": {
      "text/plain": [
       "{'name': 'expectation',\n",
       " 'description': 'expectation block',\n",
       " 'states': [{'name': 'jNrm',\n",
       "   'domain': [0.0, 'inf'],\n",
       "   'description': 'normalized wealth (j)ust before income'},\n",
       "  {'name': 'kNrm',\n",
       "   'domain': [0.0, 'inf'],\n",
       "   'description': 'normalized pension (k)apital before income'}],\n",
       " 'distributions': [{'name': 'perm',\n",
       "   'description': 'permanent income shock',\n",
       "   'distribution': <mock_parser.MeanOneLogNormal at 0x2c5316b1e40>},\n",
       "  {'name': 'tran',\n",
       "   'description': 'transitory income shock',\n",
       "   'distribution': <mock_parser.MeanOneLogNormal at 0x2c5316b2950>},\n",
       "  {'name': 'risky',\n",
       "   'description': 'risky asset return',\n",
       "   'distribution': <mock_parser.LogNormal at 0x2c5316b2890>}],\n",
       " 'parameters': ['CRRA',\n",
       "  'Rfree',\n",
       "  'PermGroFac',\n",
       "  'std_perm',\n",
       "  'std_tran',\n",
       "  'mean_risky',\n",
       "  'std_risky'],\n",
       " 'equations': {'objective': ['v(jNrm, kNrm) = PermAdj^(1-CRRA) * w(mNrm, nNrm)'],\n",
       "  'transitions': ['mNrm = Rfree * jNrm / PermAdj + tran',\n",
       "   'nNrm = risky * kNrm / PermAdj'],\n",
       "  'definitions': ['PermAdj = PermGroFac * perm',\n",
       "   'Rport = (Rfree * jNrm + risky * kNrm) / (jNrm + kNrm)']}}"
      ]
     },
     "execution_count": 116,
     "metadata": {},
     "output_type": "execute_result"
    }
   ],
   "source": [
    "model[1][\"blocks\"][0]"
   ]
  },
  {
   "cell_type": "markdown",
   "metadata": {},
   "source": [
    "### Deposit Block"
   ]
  },
  {
   "cell_type": "code",
   "execution_count": 117,
   "metadata": {},
   "outputs": [
    {
     "data": {
      "text/plain": [
       "{'name': 'deposit',\n",
       " 'description': 'deposit block',\n",
       " 'states': [{'name': 'mNrm',\n",
       "   'domain': [0.0, 'inf'],\n",
       "   'description': 'normalized (m)arket resources'},\n",
       "  {'name': 'nNrm',\n",
       "   'domain': [0.0, 'inf'],\n",
       "   'description': 'normalized (n)et retirement balance'}],\n",
       " 'controls': [{'name': 'dNrm',\n",
       "   'domain': [0.0, 'mNrm'],\n",
       "   'description': 'normalized pension deposit'}],\n",
       " 'parameters': ['chi'],\n",
       " 'equations': {'objective': ['v(mNrm, nNrm) = w(lNrm, bNrm)'],\n",
       "  'transitions': ['lNrm = mNrm - dNrm', 'bNrm = nNrm + dNrm + g(dNrm)'],\n",
       "  'definitions': ['g(dNrm) = chi * log(dNrm + 1)']}}"
      ]
     },
     "execution_count": 117,
     "metadata": {},
     "output_type": "execute_result"
    }
   ],
   "source": [
    "deposit_block = model[1][\"blocks\"][1]\n",
    "deposit_block"
   ]
  },
  {
   "cell_type": "markdown",
   "metadata": {},
   "source": [
    "### Consumption Block"
   ]
  },
  {
   "cell_type": "code",
   "execution_count": 118,
   "metadata": {},
   "outputs": [],
   "source": [
    "consumption_block = model[1][\"blocks\"][2]"
   ]
  },
  {
   "cell_type": "markdown",
   "metadata": {},
   "source": [
    "## Endogenous Grid Method"
   ]
  },
  {
   "cell_type": "markdown",
   "metadata": {},
   "source": [
    "### Deposit Solution"
   ]
  },
  {
   "cell_type": "code",
   "execution_count": 119,
   "metadata": {},
   "outputs": [],
   "source": [
    "\n",
    "# Parse equations from the dictionary\n",
    "def parse_eq(eq_str):\n",
    "    # Remove 'Nrm' from the equation string\n",
    "    eq_str = eq_str.replace(\"Nrm\", \"\")\n",
    "    \n",
    "    beta = symbols(\"beta\")\n",
    "    rho = symbols(\"rho\")\n",
    "    syms = {\"beta\": beta, \"CRRA\": rho}\n",
    "    \n",
    "    lhs_str, rhs_str = eq_str.split(\"=\")\n",
    "    lhs = parse_expr(lhs_str.strip(), local_dict=syms)\n",
    "    rhs = parse_expr(rhs_str.strip(), local_dict=syms)\n",
    "    return Eq(lhs, rhs)\n",
    "\n",
    "\n",
    "def parse_block(block):\n",
    "    objective = parse_eq(block[\"equations\"][\"objective\"][0])\n",
    "    transitions = [parse_eq(eq) for eq in block[\"equations\"][\"transitions\"]]\n",
    "    definitions = [parse_eq(eq) for eq in block[\"equations\"][\"definitions\"]]\n",
    "\n",
    "    return objective, transitions, definitions\n",
    "\n",
    "\n",
    "def subs_eq_lr(eq, substitutes):\n",
    "    eq = eq.doit()\n",
    "    # Substitute transitions and definitions into objective\n",
    "    for subs_eq in substitutes:\n",
    "        eq = eq.subs(subs_eq.lhs, subs_eq.rhs)\n",
    "\n",
    "    return eq.doit()\n",
    "\n",
    "def subs_eq_rl(eq, substitutes):\n",
    "    eq = eq.doit()\n",
    "    # Substitute transitions and definitions into objective\n",
    "    for subs_eq in substitutes:\n",
    "        eq = eq.subs(subs_eq.rhs, subs_eq.lhs)\n",
    "\n",
    "    return eq.doit()"
   ]
  },
  {
   "cell_type": "code",
   "execution_count": 120,
   "metadata": {},
   "outputs": [
    {
     "data": {
      "text/latex": [
       "$\\displaystyle v{\\left(m,n \\right)} = w{\\left(- d + m,\\chi \\log{\\left(d + 1 \\right)} + d + n \\right)}$"
      ],
      "text/plain": [
       "Eq(v(m, n), w(-d + m, chi*log(d + 1) + d + n))"
      ]
     },
     "execution_count": 120,
     "metadata": {},
     "output_type": "execute_result"
    }
   ],
   "source": [
    "objective_eq, transitions_eqs, definitions_eqs = parse_block(deposit_block)\n",
    "\n",
    "objective_eq = subs_eq_lr(objective_eq, transitions_eqs)\n",
    "objective_eq = subs_eq_lr(objective_eq, definitions_eqs)\n",
    "\n",
    "# Simplify the final equation\n",
    "final_eq = simplify(objective_eq)\n",
    "\n",
    "final_eq"
   ]
  },
  {
   "cell_type": "code",
   "execution_count": 121,
   "metadata": {},
   "outputs": [
    {
     "data": {
      "text/latex": [
       "$\\displaystyle \\frac{\\partial}{\\partial m} v{\\left(m,n \\right)} = \\left. \\frac{\\partial}{\\partial \\xi_{1}} w{\\left(\\xi_{1},\\chi \\log{\\left(d + 1 \\right)} + d + n \\right)} \\right|_{\\substack{ \\xi_{1}=- d + m }}$"
      ],
      "text/plain": [
       "Eq(Derivative(v(m, n), m), Subs(Derivative(w(_xi_1, chi*log(d + 1) + d + n), _xi_1), _xi_1, -d + m))"
      ]
     },
     "execution_count": 121,
     "metadata": {},
     "output_type": "execute_result"
    }
   ],
   "source": [
    "Eq(diff(final_eq.lhs, \"m\"), diff(final_eq.rhs, \"m\"))"
   ]
  },
  {
   "cell_type": "code",
   "execution_count": 122,
   "metadata": {},
   "outputs": [
    {
     "data": {
      "text/latex": [
       "$\\displaystyle \\frac{\\partial}{\\partial n} v{\\left(m,n \\right)} = \\left. \\frac{\\partial}{\\partial \\xi_{2}} w{\\left(- d + m,\\xi_{2} \\right)} \\right|_{\\substack{ \\xi_{2}=\\chi \\log{\\left(d + 1 \\right)} + d + n }}$"
      ],
      "text/plain": [
       "Eq(Derivative(v(m, n), n), Subs(Derivative(w(-d + m, _xi_2), _xi_2), _xi_2, chi*log(d + 1) + d + n))"
      ]
     },
     "execution_count": 122,
     "metadata": {},
     "output_type": "execute_result"
    }
   ],
   "source": [
    "Eq(diff(final_eq.lhs, \"n\"), diff(final_eq.rhs, \"n\"))"
   ]
  },
  {
   "cell_type": "code",
   "execution_count": 123,
   "metadata": {},
   "outputs": [
    {
     "data": {
      "text/latex": [
       "$\\displaystyle 0 = \\left(\\frac{\\chi}{d + 1} + 1\\right) \\left. \\frac{\\partial}{\\partial \\xi_{2}} w{\\left(- d + m,\\xi_{2} \\right)} \\right|_{\\substack{ \\xi_{2}=\\chi \\log{\\left(d + 1 \\right)} + d + n }} - \\left. \\frac{\\partial}{\\partial \\xi_{1}} w{\\left(\\xi_{1},\\chi \\log{\\left(d + 1 \\right)} + d + n \\right)} \\right|_{\\substack{ \\xi_{1}=- d + m }}$"
      ],
      "text/plain": [
       "Eq(0, (chi/(d + 1) + 1)*Subs(Derivative(w(-d + m, _xi_2), _xi_2), _xi_2, chi*log(d + 1) + d + n) - Subs(Derivative(w(_xi_1, chi*log(d + 1) + d + n), _xi_1), _xi_1, -d + m))"
      ]
     },
     "execution_count": 123,
     "metadata": {},
     "output_type": "execute_result"
    }
   ],
   "source": [
    "euler = Eq(0, diff(final_eq.rhs, \"d\"))\n",
    "euler"
   ]
  },
  {
   "cell_type": "code",
   "execution_count": 124,
   "metadata": {},
   "outputs": [
    {
     "data": {
      "text/latex": [
       "$\\displaystyle \\frac{\\chi \\left. \\frac{\\partial}{\\partial \\xi_{2}} w{\\left(- d + m,\\xi_{2} \\right)} \\right|_{\\substack{ \\xi_{2}=\\chi \\log{\\left(d + 1 \\right)} + d + n }} - \\left. \\frac{\\partial}{\\partial \\xi_{1}} w{\\left(\\xi_{1},\\chi \\log{\\left(d + 1 \\right)} + d + n \\right)} \\right|_{\\substack{ \\xi_{1}=- d + m }} + \\left. \\frac{\\partial}{\\partial \\xi_{2}} w{\\left(- d + m,\\xi_{2} \\right)} \\right|_{\\substack{ \\xi_{2}=\\chi \\log{\\left(d + 1 \\right)} + d + n }}}{\\left. \\frac{\\partial}{\\partial \\xi_{1}} w{\\left(\\xi_{1},\\chi \\log{\\left(d + 1 \\right)} + d + n \\right)} \\right|_{\\substack{ \\xi_{1}=- d + m }} - \\left. \\frac{\\partial}{\\partial \\xi_{2}} w{\\left(- d + m,\\xi_{2} \\right)} \\right|_{\\substack{ \\xi_{2}=\\chi \\log{\\left(d + 1 \\right)} + d + n }}}$"
      ],
      "text/plain": [
       "(chi*Subs(Derivative(w(-d + m, _xi_2), _xi_2), _xi_2, chi*log(d + 1) + d + n) - Subs(Derivative(w(_xi_1, chi*log(d + 1) + d + n), _xi_1), _xi_1, -d + m) + Subs(Derivative(w(-d + m, _xi_2), _xi_2), _xi_2, chi*log(d + 1) + d + n))/(Subs(Derivative(w(_xi_1, chi*log(d + 1) + d + n), _xi_1), _xi_1, -d + m) - Subs(Derivative(w(-d + m, _xi_2), _xi_2), _xi_2, chi*log(d + 1) + d + n))"
      ]
     },
     "execution_count": 124,
     "metadata": {},
     "output_type": "execute_result"
    }
   ],
   "source": [
    "egm = solve(euler, \"d\")\n",
    "solution = egm[0]\n",
    "solution"
   ]
  },
  {
   "cell_type": "code",
   "execution_count": 125,
   "metadata": {},
   "outputs": [],
   "source": [
    "# needs to be run twice for some reason\n",
    "\n",
    "solution = subs_eq_rl(solution, transitions_eqs)\n",
    "solution = subs_eq_rl(solution, definitions_eqs)\n",
    "solution = subs_eq_rl(solution, transitions_eqs)\n",
    "solution = subs_eq_rl(solution, definitions_eqs)"
   ]
  },
  {
   "cell_type": "code",
   "execution_count": 126,
   "metadata": {},
   "outputs": [
    {
     "data": {
      "text/latex": [
       "$\\displaystyle d = \\frac{- \\chi \\frac{\\partial}{\\partial b} w{\\left(l,b \\right)} - \\frac{\\partial}{\\partial b} w{\\left(l,b \\right)} + \\frac{\\partial}{\\partial l} w{\\left(l,b \\right)}}{\\frac{\\partial}{\\partial b} w{\\left(l,b \\right)} - \\frac{\\partial}{\\partial l} w{\\left(l,b \\right)}}$"
      ],
      "text/plain": [
       "Eq(d, (-chi*Derivative(w(l, b), b) - Derivative(w(l, b), b) + Derivative(w(l, b), l))/(Derivative(w(l, b), b) - Derivative(w(l, b), l)))"
      ]
     },
     "execution_count": 126,
     "metadata": {},
     "output_type": "execute_result"
    }
   ],
   "source": [
    "Eq(Symbol(\"d\"), simplify(solution))"
   ]
  },
  {
   "cell_type": "markdown",
   "metadata": {},
   "source": [
    "### Consumption Solution"
   ]
  },
  {
   "cell_type": "code",
   "execution_count": 127,
   "metadata": {},
   "outputs": [
    {
     "data": {
      "text/latex": [
       "$\\displaystyle v{\\left(l,b \\right)} = \\frac{DiscFac LivPrb \\left(\\rho - 1\\right) w{\\left(- c + l,b \\right)} - c^{1 - \\rho}}{\\rho - 1}$"
      ],
      "text/plain": [
       "Eq(v(l, b), (DiscFac*LivPrb*(rho - 1)*w(-c + l, b) - c**(1 - rho))/(rho - 1))"
      ]
     },
     "execution_count": 127,
     "metadata": {},
     "output_type": "execute_result"
    }
   ],
   "source": [
    "objective_eq, transitions_eqs, definitions_eqs = parse_block(consumption_block)\n",
    "\n",
    "objective_eq = subs_eq_lr(objective_eq, transitions_eqs)\n",
    "objective_eq = subs_eq_lr(objective_eq, definitions_eqs)\n",
    "\n",
    "# Simplify the final equation\n",
    "final_eq = simplify(objective_eq)\n",
    "\n",
    "final_eq"
   ]
  },
  {
   "cell_type": "code",
   "execution_count": 128,
   "metadata": {},
   "outputs": [
    {
     "data": {
      "text/latex": [
       "$\\displaystyle \\frac{\\partial}{\\partial l} v{\\left(l,b \\right)} = DiscFac LivPrb \\left. \\frac{\\partial}{\\partial \\xi_{1}} w{\\left(\\xi_{1},b \\right)} \\right|_{\\substack{ \\xi_{1}=- c + l }}$"
      ],
      "text/plain": [
       "Eq(Derivative(v(l, b), l), DiscFac*LivPrb*Subs(Derivative(w(_xi_1, b), _xi_1), _xi_1, -c + l))"
      ]
     },
     "execution_count": 128,
     "metadata": {},
     "output_type": "execute_result"
    }
   ],
   "source": [
    "Eq(diff(final_eq.lhs, \"l\"), diff(final_eq.rhs, \"l\"))"
   ]
  },
  {
   "cell_type": "code",
   "execution_count": 129,
   "metadata": {},
   "outputs": [
    {
     "data": {
      "text/latex": [
       "$\\displaystyle \\frac{\\partial}{\\partial b} v{\\left(l,b \\right)} = DiscFac LivPrb \\frac{\\partial}{\\partial b} w{\\left(- c + l,b \\right)}$"
      ],
      "text/plain": [
       "Eq(Derivative(v(l, b), b), DiscFac*LivPrb*Derivative(w(-c + l, b), b))"
      ]
     },
     "execution_count": 129,
     "metadata": {},
     "output_type": "execute_result"
    }
   ],
   "source": [
    "Eq(diff(final_eq.lhs, \"b\"), diff(final_eq.rhs, \"b\"))"
   ]
  },
  {
   "cell_type": "code",
   "execution_count": 130,
   "metadata": {},
   "outputs": [
    {
     "data": {
      "text/latex": [
       "$\\displaystyle 0 = \\frac{- DiscFac LivPrb \\left(\\rho - 1\\right) \\left. \\frac{\\partial}{\\partial \\xi_{1}} w{\\left(\\xi_{1},b \\right)} \\right|_{\\substack{ \\xi_{1}=- c + l }} - \\frac{c^{1 - \\rho} \\left(1 - \\rho\\right)}{c}}{\\rho - 1}$"
      ],
      "text/plain": [
       "Eq(0, (-DiscFac*LivPrb*(rho - 1)*Subs(Derivative(w(_xi_1, b), _xi_1), _xi_1, -c + l) - c**(1 - rho)*(1 - rho)/c)/(rho - 1))"
      ]
     },
     "execution_count": 130,
     "metadata": {},
     "output_type": "execute_result"
    }
   ],
   "source": [
    "euler = Eq(0, diff(final_eq.rhs, \"c\"))\n",
    "euler"
   ]
  },
  {
   "cell_type": "code",
   "execution_count": 131,
   "metadata": {},
   "outputs": [
    {
     "data": {
      "text/latex": [
       "$\\displaystyle \\left(\\frac{1}{DiscFac LivPrb \\left. \\frac{\\partial}{\\partial \\xi_{1}} w{\\left(\\xi_{1},b \\right)} \\right|_{\\substack{ \\xi_{1}=- c + l }}}\\right)^{\\frac{1}{\\rho}}$"
      ],
      "text/plain": [
       "(1/(DiscFac*LivPrb*Subs(Derivative(w(_xi_1, b), _xi_1), _xi_1, -c + l)))**(1/rho)"
      ]
     },
     "execution_count": 131,
     "metadata": {},
     "output_type": "execute_result"
    }
   ],
   "source": [
    "egm = solve(euler, \"c\")\n",
    "solution = egm[0]\n",
    "solution"
   ]
  },
  {
   "cell_type": "code",
   "execution_count": 132,
   "metadata": {},
   "outputs": [],
   "source": [
    "# needs to be run twice for some reason\n",
    "\n",
    "solution = subs_eq_rl(solution, transitions_eqs)\n",
    "solution = subs_eq_rl(solution, definitions_eqs)\n",
    "solution = subs_eq_rl(solution, transitions_eqs)\n",
    "solution = subs_eq_rl(solution, definitions_eqs)"
   ]
  },
  {
   "cell_type": "code",
   "execution_count": 133,
   "metadata": {},
   "outputs": [
    {
     "data": {
      "text/latex": [
       "$\\displaystyle c = \\left(\\frac{1}{\\beta \\frac{\\partial}{\\partial a} w{\\left(a,b \\right)}}\\right)^{\\frac{1}{\\rho}}$"
      ],
      "text/plain": [
       "Eq(c, (1/(beta*Derivative(w(a, b), a)))**(1/rho))"
      ]
     },
     "execution_count": 133,
     "metadata": {},
     "output_type": "execute_result"
    }
   ],
   "source": [
    "Eq(Symbol(\"c\"), simplify(solution))"
   ]
  },
  {
   "cell_type": "code",
   "execution_count": null,
   "metadata": {},
   "outputs": [],
   "source": []
  }
 ],
 "metadata": {
  "kernelspec": {
   "display_name": "base",
   "language": "python",
   "name": "python3"
  },
  "language_info": {
   "codemirror_mode": {
    "name": "ipython",
    "version": 3
   },
   "file_extension": ".py",
   "mimetype": "text/x-python",
   "name": "python",
   "nbconvert_exporter": "python",
   "pygments_lexer": "ipython3",
   "version": "3.10.13"
  }
 },
 "nbformat": 4,
 "nbformat_minor": 2
}
