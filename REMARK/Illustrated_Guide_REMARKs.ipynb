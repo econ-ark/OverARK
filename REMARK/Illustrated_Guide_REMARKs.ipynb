{
 "cells": [
  {
   "cell_type": "markdown",
   "metadata": {},
   "source": [
    "# Illustrated Guide To REMARKs\n"
   ]
  },
  {
   "cell_type": "markdown",
   "metadata": {},
   "source": [
    "The Economics profession has fallen behind other fields in the adoption of modern software development and reproducibility practices. Economists generally lack robust software engineering training and resort to writing new software from scratch. This practice of 'reinventing the wheel' increases the likelihood of errors and undermines the reproducibility of computational results.\n",
    "\n",
    "Poor software development practices also slow down the advancement of Economics as a science. When researchers cannot reproduce the results of a paper, they are unable to build on the work of others, which leads to wasted time and effort and slows down progress. Additionally, when researchers cannot reproduce the results of a paper, they are unable to verify the validity of said results. This leads to a lack of trust in the research, which can have a negative impact on the influence of the field.\n",
    "\n",
    "Other disciplines have adapted to modern software development methods, and it is time for Economics to catch up.\n"
   ]
  },
  {
   "cell_type": "markdown",
   "metadata": {},
   "source": [
    "To address the problem discussed above, Econ-ARK has been working on developing a set of standards and tools for reproducibility in our own work in Economics. Our reproducibility initiative is called REMARK, which stands for \"R[eplications/eproductions] and Explorations Made using ARK\". The term REMARK is used to represent the standard, as well as any project that follows the standard. The objective of REMARKs is to be self-contained and complete projects, whose contents should be executable by anyone on any computer that meets a minimal set of requirements and software.\n",
    "\n",
    "The REMARK standard is focused on 3 key principles:\n",
    "\n",
    "- **Reproduction**: The ability to reproduce the results of a project using the same data and code on a different computer.\n",
    "- **Archiving**: Storing the project in a way that it can be accessed and used in the future.\n",
    "- **Publishing**: Making the project available to the public and incentivizing the sharing of code and data.\n"
   ]
  },
  {
   "cell_type": "markdown",
   "metadata": {},
   "source": [
    "## Reproduction\n",
    "\n",
    "- [binder](https://mybinder.org/)\n",
    "- [docker](https://www.docker.com/)\n",
    "- conda\n",
    "- pip\n",
    "- `reproduce.sh`\n"
   ]
  },
  {
   "cell_type": "markdown",
   "metadata": {},
   "source": [
    "## Archiving\n",
    "\n",
    "- [Zenodo](https://zenodo.org/)\n",
    "- [Citation File Format (cff)](https://citation-file-format.github.io/)\n"
   ]
  },
  {
   "cell_type": "markdown",
   "metadata": {},
   "source": [
    "## Publishing\n",
    "\n",
    "- [Open Journals](https://www.theoj.org/)\n",
    "- [Journal of Open Source Software](https://joss.theoj.org/)\n"
   ]
  },
  {
   "cell_type": "markdown",
   "metadata": {},
   "source": [
    "## Journal Submission Template\n",
    "\n",
    "REMARK as a complement to papers:\n",
    "\n",
    "- guarantees reproducibility\n",
    "- incentivizes the sharing of code\n",
    "- makes it easier to build on the work of others\n",
    "- increases the trust in the research\n",
    "- speeds up the advancement of Economics as a science\n"
   ]
  },
  {
   "cell_type": "markdown",
   "metadata": {},
   "source": [
    "## REMARK Guidelines\n",
    "\n",
    "A REMARK is a public git repository with appropriate metadata intended for reproducibility.\n",
    "\n",
    "The Standard:\n",
    "\n",
    "- Local environment requirements in root directory:\n",
    "  - `.\\binder` directory including `runtime.txt` and/or `requirements.txt`.\n",
    "  - `.\\environment.yml` file with pinned dependencies.\n",
    "- A `.\\reproduce.sh` script that\n",
    "  - Builds environment and installs requirements.\n",
    "  - Runs and reproduces all the results (one-click reproduction).\n",
    "- A valid `.\\citation.cff` document for bibliographic metadata for repository.\n",
    "- Tagged releases for each version of the REMARK.\n",
    "\n",
    "Optional:\n",
    "\n",
    "- If reproduction takes too many resources or too much time, include `.\\reproduce_min.sh` that generates an interesting subset of results in a shorter amount of time.\n",
    "- A jupyter notebook that showcases a major result or two.\n",
    "- An interactive dashboard that demonstrates a `remark`able result.\n",
    "- A `.\\reproduce_paper.sh` that generates the publishable paper from the results.\n"
   ]
  },
  {
   "cell_type": "markdown",
   "metadata": {},
   "source": []
  }
 ],
 "metadata": {
  "kernelspec": {
   "display_name": "Python 3 (ipykernel)",
   "language": "python",
   "name": "python3"
  },
  "language_info": {
   "codemirror_mode": {
    "name": "ipython",
    "version": 3
   },
   "file_extension": ".py",
   "mimetype": "text/x-python",
   "name": "python",
   "nbconvert_exporter": "python",
   "pygments_lexer": "ipython3",
   "version": "3.12.2"
  }
 },
 "nbformat": 4,
 "nbformat_minor": 4
}
